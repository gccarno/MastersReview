{
 "cells": [
  {
   "cell_type": "markdown",
   "metadata": {},
   "source": [
    "# Handout 6"
   ]
  },
  {
   "cell_type": "code",
   "execution_count": null,
   "metadata": {
    "collapsed": true
   },
   "outputs": [],
   "source": [
    "#generate observations from fixed effects model"
   ]
  },
  {
   "cell_type": "code",
   "execution_count": null,
   "metadata": {
    "collapsed": true
   },
   "outputs": [],
   "source": [
    "#generate observations from random effects model"
   ]
  },
  {
   "cell_type": "code",
   "execution_count": null,
   "metadata": {
    "collapsed": true
   },
   "outputs": [],
   "source": [
    "#MOM estimates of variance components"
   ]
  },
  {
   "cell_type": "code",
   "execution_count": null,
   "metadata": {
    "collapsed": true
   },
   "outputs": [],
   "source": [
    "#confidence intervals for variance components"
   ]
  },
  {
   "cell_type": "code",
   "execution_count": 7,
   "metadata": {
    "collapsed": false
   },
   "outputs": [
    {
     "name": "stdout",
     "output_type": "stream",
     "text": [
      "r: 9, nu1: 4, nu2: 40, lambda: 2.8986966327041137, power: 0.86949471543\n"
     ]
    }
   ],
   "source": [
    "#sample size calculation from page 24\n",
    "from scipy.stats import f\n",
    "from math import sqrt\n",
    "def repfixt(alpha, gamma, t, sigma_a, sigma_e):\n",
    "    r = 1\n",
    "    power = 0\n",
    "    nu1 = t-1\n",
    "    while(power < gamma):\n",
    "        r += 1\n",
    "        nu2 = t*(r-1)\n",
    "        tau = (sigma_a/sigma_e)**2\n",
    "        lamb = sqrt(1+r*tau)\n",
    "        Fcv = f.ppf(1-alpha, nu1, nu2)\n",
    "        C = (1/lamb**2)*Fcv\n",
    "        power = 1-f.cdf(C, nu1, nu2)\n",
    "    return(r, nu1, nu2, lamb, power) \n",
    "print(\"r: %s, nu1: %s, nu2: %s, lambda: %s, power: %s\"%repfixt(.05,.85,5,2.5,2.7566))"
   ]
  },
  {
   "cell_type": "code",
   "execution_count": 9,
   "metadata": {
    "collapsed": false
   },
   "outputs": [
    {
     "name": "stdout",
     "output_type": "stream",
     "text": [
      "r: 5, t: 8, nu1: 7, nu2: 32,Fcr: 2.31274118663, lambda: 2.261083810919003, power: 0.861107211225\n"
     ]
    }
   ],
   "source": [
    "#sample size calculation from page 26, fixe power\n",
    "#sample size calculation from page 24\n",
    "from scipy.stats import f\n",
    "from math import sqrt\n",
    "def repfixt(alpha, gamma, r, tau):\n",
    "    t = 2\n",
    "    power = 0\n",
    "    while(power < gamma):\n",
    "        t += 1\n",
    "        nu1 = t - 1\n",
    "        nu2 = t*(r-1)\n",
    "        lamb = sqrt(1+r*tau)\n",
    "        Fcr = f.ppf(1-alpha, nu1, nu2)\n",
    "        C = (1/lamb**2)*Fcr\n",
    "        power = 1-f.cdf(C, nu1, nu2)\n",
    "    return(r,t, nu1, nu2,Fcr, lamb, power) \n",
    "print(\"r: %s, t: %s, nu1: %s, nu2: %s,Fcr: %s, lambda: %s, power: %s\"%repfixt(.05,.85,5,.8225))"
   ]
  },
  {
   "cell_type": "code",
   "execution_count": null,
   "metadata": {
    "collapsed": true
   },
   "outputs": [],
   "source": [
    "#replicate page 29 random effects model\n",
    "mach = as.factor(c(rep(\"M1\",5),rep(\"M2\",5),rep(\"M3\",5),rep(\"M4\",5)))\n",
    "strngt =\n",
    "c(128, 127, 129, 126, 128,\n",
    "121, 120, 123, 122, 125,\n",
    "126, 125, 127, 125, 124,\n",
    "125, 126, 129, 128, 127)\n",
    "data <- data.frame(strngt,mach)\n",
    "#treat Machine as a fixed effect to obtain Sum of Squares\n",
    "fixmach = lm(strngt ~ mach)\n",
    "anova(fixmach)\n",
    "#treat Machine as a random effect to obtain estimates of variances\n",
    "ranmach = lmer(strngt ~ 1+(1|mach),data)\n",
    "summary(ranmach)"
   ]
  },
  {
   "cell_type": "code",
   "execution_count": null,
   "metadata": {
    "collapsed": true
   },
   "outputs": [],
   "source": [
    "#approximate Tukey-Kramer"
   ]
  },
  {
   "cell_type": "code",
   "execution_count": null,
   "metadata": {
    "collapsed": true
   },
   "outputs": [],
   "source": [
    "#R code on 50 and 51\n",
    "stim = as.factor(c(rep(\"S1\",15),rep(\"S2\",16),rep(\"S3\",14),rep(\"S4\",12)))\n",
    "plotS1 = as.factor(c(rep(\"1\",3),rep(\"2\",3),rep(\"3\",3),rep(\"4\",3),rep(\"5\",3)))\n",
    "plotS2 = as.factor(c(rep(\"1\",3),rep(\"2\",3),rep(\"3\",3),rep(\"4\",2),rep(\"5\",3),rep(\"6\",2)))\n",
    "plotS3 = as.factor(c(rep(\"1\",3),rep(\"2\",3),rep(\"3\",2),rep(\"4\",2),rep(\"5\",2),rep(\"6\",2)))\n",
    "plotS4 = as.factor(c(rep(\"1\",3),rep(\"2\",3),rep(\"3\",3),rep(\"4\",3)))\n",
    "plot = as.factor(c(plotS1,plotS2,plotS3,plotS4))\n",
    "rootwt =\n",
    "c(3.3,3.4,3.5,3.1,3.5,3.0,3.2,3.1,3.4,3.3,2.9,3.0,3.3,3.3,3.1,\n",
    "3.8,3.7,4.0,3.5,3.8,3.9,3.6,3.4,3.8,3.4,3.7,3.6,3.7,3.6,3.5,3.9,\n",
    "3.8,3.9,4.0,3.6,3.7,3.8,3.3,3.4,3.6,3.7,3.5,3.9,3.4,3.7,\n",
    "4.3,4.3,4.4,4.1,3.9,3.8,4.2,4.1,3.9,3.7,3.9,4.0)\n",
    "ranmod = lmer(rootwt ~ 1 + stim + (1|plot:stim))\n",
    "summary(ranmod)\n",
    "aovranmod = anova(ranmod)\n",
    "aovranmod\n",
    "lsmeans(ranmod, pairwise ~stim, adjust=c(\"tukey\"))\n",
    "\n",
    "#treat plot as fixed to obtain AOV sum of squares:\n",
    "fixmod = lm(rootwt ~ stim + plot:stim)\n",
    "summary(fixmod)\n",
    "anova(fixmod)\n",
    "lsmeans(fixmod, \"stim\")"
   ]
  }
 ],
 "metadata": {
  "kernelspec": {
   "display_name": "Python 3",
   "language": "python",
   "name": "python3"
  },
  "language_info": {
   "codemirror_mode": {
    "name": "ipython",
    "version": 3
   },
   "file_extension": ".py",
   "mimetype": "text/x-python",
   "name": "python",
   "nbconvert_exporter": "python",
   "pygments_lexer": "ipython3",
   "version": "3.6.0"
  }
 },
 "nbformat": 4,
 "nbformat_minor": 2
}
