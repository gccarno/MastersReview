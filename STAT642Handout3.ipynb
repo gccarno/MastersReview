{
 "cells": [
  {
   "cell_type": "markdown",
   "metadata": {},
   "source": [
    "# Handout 3"
   ]
  },
  {
   "cell_type": "code",
   "execution_count": null,
   "metadata": {
    "collapsed": true
   },
   "outputs": [],
   "source": [
    "# Randomization on page 5"
   ]
  },
  {
   "cell_type": "code",
   "execution_count": 2,
   "metadata": {
    "collapsed": false
   },
   "outputs": [
    {
     "data": {
      "text/plain": [
       "array([         inf,   1.77245385,   1.        ,  24.        ])"
      ]
     },
     "execution_count": 2,
     "metadata": {},
     "output_type": "execute_result"
    }
   ],
   "source": [
    "#gamma function\n",
    "from scipy.special import gamma\n",
    "gamma([0,0.5,1,5])"
   ]
  },
  {
   "cell_type": "code",
   "execution_count": 30,
   "metadata": {
    "collapsed": false
   },
   "outputs": [
    {
     "name": "stdout",
     "output_type": "stream",
     "text": [
      "0.144845806026\n",
      "0.650663987755\n"
     ]
    }
   ],
   "source": [
    "#F distrubtion\n",
    "from scipy.stats import f\n",
    "print(1-f.cdf(2,10,10))\n",
    "#non-central F-distribution\n",
    "from scipy.stats import ncf\n",
    "print(1-ncf.cdf(4.0666,3,8,12.93))"
   ]
  },
  {
   "cell_type": "code",
   "execution_count": 25,
   "metadata": {
    "collapsed": false
   },
   "outputs": [
    {
     "name": "stdout",
     "output_type": "stream",
     "text": [
      "                 sum_sq    df           F        PR(>F)\n",
      "C(treatment)  51.620445   3.0  155.174576  2.782781e-09\n",
      "Residual       1.219755  11.0         NaN           NaN\n",
      "                            OLS Regression Results                            \n",
      "==============================================================================\n",
      "Dep. Variable:                 counts   R-squared:                       0.977\n",
      "Model:                            OLS   Adj. R-squared:                  0.971\n",
      "Method:                 Least Squares   F-statistic:                     155.2\n",
      "Date:                Sun, 01 Jul 2018   Prob (F-statistic):           2.78e-09\n",
      "Time:                        12:01:25   Log-Likelihood:                -2.4636\n",
      "No. Observations:                  15   AIC:                             12.93\n",
      "Df Residuals:                      11   BIC:                             15.76\n",
      "Df Model:                           3                                         \n",
      "Covariance Type:            nonrobust                                         \n",
      "=========================================================================================\n",
      "                            coef    std err          t      P>|t|      [95.0% Conf. Int.]\n",
      "-----------------------------------------------------------------------------------------\n",
      "Intercept                 3.1980      0.149     21.475      0.000         2.870     3.526\n",
      "C(treatment)[T.COMM]      4.2820      0.243     17.608      0.000         3.747     4.817\n",
      "C(treatment)[T.MIXED]     4.1445      0.223     18.554      0.000         3.653     4.636\n",
      "C(treatment)[T.VAC]       2.3020      0.243      9.466      0.000         1.767     2.837\n",
      "==============================================================================\n",
      "Omnibus:                        2.335   Durbin-Watson:                   2.982\n",
      "Prob(Omnibus):                  0.311   Jarque-Bera (JB):                1.014\n",
      "Skew:                          -0.057   Prob(JB):                        0.602\n",
      "Kurtosis:                       1.731   Cond. No.                         4.28\n",
      "==============================================================================\n",
      "\n",
      "Warnings:\n",
      "[1] Standard Errors assume that the covariance matrix of the errors is correctly specified.\n"
     ]
    },
    {
     "name": "stderr",
     "output_type": "stream",
     "text": [
      "C:\\Users\\gccar\\Anaconda3\\lib\\site-packages\\scipy\\stats\\stats.py:1327: UserWarning: kurtosistest only valid for n>=20 ... continuing anyway, n=15\n",
      "  \"anyway, n=%i\" % int(n))\n"
     ]
    },
    {
     "data": {
      "text/plain": [
       "<matplotlib.axes._subplots.AxesSubplot at 0x1c9dedfcb00>"
      ]
     },
     "execution_count": 25,
     "metadata": {},
     "output_type": "execute_result"
    },
    {
     "data": {
      "image/png": "[encoded data removed]",
      "text/plain": [
       "<matplotlib.figure.Figure at 0x1c9dee27940>"
      ]
     },
     "metadata": {},
     "output_type": "display_data"
    }
   ],
   "source": [
    "#replicate R code on page 27, storage.R\n",
    "#numpy and pandas are dependents\n",
    "%matplotlib inline\n",
    "import pandas as pd\n",
    "from statsmodels.formula.api import ols\n",
    "from statsmodels.stats.anova import anova_lm\n",
    "\n",
    "# specify the treatments as a \"stacked\" data set\n",
    "treatment = [\"COMM\"]*3 + [\"VAC\"]*3 + [\"MIXED\"]* 4 + [\"CO2\"]* 5\n",
    "\n",
    "# specify the counts as a \"stacked\" data set\n",
    "counts = [7.66, 6.98, 7.80,5.26, 5.44, 5.80,7.41, 7.33, \n",
    "           7.04, 7.59,3.51, 2.91, 3.66, 2.87, 3.04]\n",
    "\n",
    "data = pd.DataFrame({'treatment':treatment,\n",
    "                    'counts':counts})\n",
    "\n",
    "formula = 'counts ~ C(treatment)'\n",
    "model = ols(formula, data).fit()\n",
    "aov_table = anova_lm(model, typ=2)\n",
    "print(aov_table)\n",
    "print(model.summary())\n",
    "datab = data.pivot(columns='treatment',values='counts')\n",
    "datab.boxplot()"
   ]
  },
  {
   "cell_type": "code",
   "execution_count": 42,
   "metadata": {
    "collapsed": false
   },
   "outputs": [
    {
     "data": {
      "text/plain": [
       "[<matplotlib.lines.Line2D at 0x1c9defc5ac8>]"
      ]
     },
     "execution_count": 42,
     "metadata": {},
     "output_type": "execute_result"
    },
    {
     "data": {
      "image/png": "[encoded data removed]",
      "text/plain": [
       "<matplotlib.figure.Figure at 0x1c9defe80f0>"
      ]
     },
     "metadata": {},
     "output_type": "display_data"
    }
   ],
   "source": [
    "#need an equivalent to power of the anova test in R?\n",
    "\n",
    "#replicate powerf_specL.sas?\n",
    "\n",
    "#replicate powerf.R on page 36, powerf  on ecampus was something different\n",
    "%matplotlib inline\n",
    "import matplotlib.pyplot as plt\n",
    "from scipy.stats import f\n",
    "from scipy.stats import ncf\n",
    "import pandas as pd\n",
    "import numpy as np\n",
    "from math import sqrt\n",
    "t,r=4,7\n",
    "n=t*(r-1)\n",
    "alpha=.05\n",
    "df1=t-1\n",
    "df2=n-t\n",
    "L=np.arange(0,45,.05)\n",
    "phi = [sqrt(L1/t) for L1 in L]\n",
    "P=[1-ncf.cdf(f.ppf(1-alpha,df1,df2),df1,df2,L2) for L2 in L]\n",
    "output=pd.DataFrame({'L':L,'P':P,'phi':phi})\n",
    "plt.plot(L,P)\n",
    "#add trimmings to the plot\n",
    "#print(output)"
   ]
  },
  {
   "cell_type": "code",
   "execution_count": 45,
   "metadata": {
    "collapsed": false
   },
   "outputs": [
    {
     "data": {
      "text/plain": [
       "{'lambda': -2.8986966327041137,\n",
       " 'nu1': 4,\n",
       " 'nu2': 40,\n",
       " 'power': 0.86949471542970469,\n",
       " 'r': 9}"
      ]
     },
     "execution_count": 45,
     "metadata": {},
     "output_type": "execute_result"
    }
   ],
   "source": [
    "#repsize Approach 3\n",
    "from math import sqrt\n",
    "from scipy.stats import f\n",
    "from scipy.stats import ncf\n",
    "\n",
    "#lambda is a reserved-ish word in python\n",
    "#this function differs from what is in the handout\n",
    "def repapp3(alpha,gamma,t,sigma_a,sigma_e):\n",
    "    r = 1\n",
    "    power = 0\n",
    "    nu1 = t-1\n",
    "    while(power<gamma):\n",
    "        r += 1\n",
    "        nu2 = t*(r-1)\n",
    "        tau = (sigma_a/sigma_e)**2\n",
    "        L = -sqrt(1+r*tau)\n",
    "        Fcv = f.ppf(1-alpha,nu1,nu2)\n",
    "        C = (1/L**2)*Fcv\n",
    "        power = 1-f.cdf(C, nu1, nu2)\n",
    "    return({'r':r,'nu1':nu1,'nu2':nu2,'lambda':L,'power':power})\n",
    "repapp3(.05,.85,5,2.5,2.7566)"
   ]
  },
  {
   "cell_type": "code",
   "execution_count": 49,
   "metadata": {
    "collapsed": false
   },
   "outputs": [
    {
     "data": {
      "text/plain": [
       "{'D': 0.5,\n",
       " 'Fcr': 4.0661805513511604,\n",
       " 'Phi': 2.5471335405424664,\n",
       " 'lambda': 25.9515570934256,\n",
       " 'nu2': 8,\n",
       " 'power': 0.92624736145577824,\n",
       " 'r': 3,\n",
       " 't': 4}"
      ]
     },
     "execution_count": 49,
     "metadata": {},
     "output_type": "execute_result"
    }
   ],
   "source": [
    "#repsize approach 4\n",
    "\n",
    "from math import sqrt\n",
    "from scipy.stats import f\n",
    "from scipy.stats import ncf\n",
    "\n",
    "#lambda is a reserved-ish word in python\n",
    "#this function differs from what is in the handout\n",
    "def repApp4(alpha, gamma, t, D, sigma):\n",
    "    r = 1\n",
    "    power = 0\n",
    "    nu1 = t-1\n",
    "    while(power<gamma):\n",
    "        r += 1\n",
    "        nu2 = t*(r-1)\n",
    "        L = r*t*D**2/sigma**2\n",
    "        Phi = sqrt(L/t)\n",
    "        Fcr = f.ppf(1-alpha,nu1,nu2)\n",
    "        power = 1-ncf.cdf(Fcr, nu1, nu2,L)\n",
    "    return({'D': D,'t':t, 'r':r,'nu2':nu2,'lambda':L,'Fcr':Fcr,'Phi':Phi, 'power':power})\n",
    "\n",
    "repApp4(.05,.90,4,.5,.34)"
   ]
  },
  {
   "cell_type": "code",
   "execution_count": 50,
   "metadata": {
    "collapsed": false
   },
   "outputs": [
    {
     "data": {
      "text/plain": [
       "{'D': 0.5,\n",
       " 'Fcr': 2.7694309320231345,\n",
       " 'Phi': 2.0136858731807576,\n",
       " 'lambda': 16.219723183391,\n",
       " 'nu2': 56,\n",
       " 'power': 0.91922990589635178,\n",
       " 'r': 15,\n",
       " 't': 4}"
      ]
     },
     "execution_count": 50,
     "metadata": {},
     "output_type": "execute_result"
    }
   ],
   "source": [
    "#repsize approach 4\n",
    "\n",
    "from math import sqrt\n",
    "from scipy.stats import f\n",
    "from scipy.stats import ncf\n",
    "\n",
    "#lambda is a reserved-ish word in python\n",
    "#this function differs from what is in the handout\n",
    "def repApp5(alpha, gamma, t, D, sigma):\n",
    "    r = 1\n",
    "    power = 0\n",
    "    nu1 = t-1\n",
    "    while(power<gamma):\n",
    "        r += 1\n",
    "        nu2 = t*(r-1)\n",
    "        L = r*D**2/(2*sigma**2)\n",
    "        Phi = sqrt(L/t)\n",
    "        Fcr = f.ppf(1-alpha,nu1,nu2)\n",
    "        power = 1-ncf.cdf(Fcr, nu1, nu2,L)\n",
    "    return({'D': D,'t':t, 'r':r,'nu2':nu2,'lambda':L,'Fcr':Fcr,'Phi':Phi, 'power':power})\n",
    "\n",
    "\n",
    "repApp5(.05,.90,4,.5,.34)"
   ]
  },
  {
   "cell_type": "code",
   "execution_count": null,
   "metadata": {
    "collapsed": true
   },
   "outputs": [],
   "source": [
    "#Rcode powerf.R\n",
    "\n",
    "t=4\n",
    "r=3\n",
    "s=.34\n",
    "df=t*(r-1)\n",
    "D = seq(0,1.0,.025)\n",
    "L1 = (D^2)*r*t/s^2\n",
    "P1 = 1-pf(qf(.95,t-1,df),t-1,df,L1)\n",
    "L2 = (D^2)*3/(2*0.11585)\n",
    "P2 = 1-pf(qf(.95,t-1,df),t-1,df,L2)\n",
    "postscript(\"u:\\meth2\\handouts\\powerf.ps\",height=8,horizontal=F)\n",
    "P<-cbind(P1,P2)\n",
    "matplot(D,P,type=\"l\",main=\"POWER OF F-TEST \\n\n",
    "                     MIN EFFECT SIZE FOR ALL/AT LEAST ONE\",\n",
    "           xlab=\"MINIMUM EFFECT SIZE (D)\", ylab=\"POWER OF F-TEST\",ylim=c(0,1),\n",
    "           lab=c(20,20,7),col=\"black\",lwd=2,\n",
    " cex=.5)\n",
    "legend(.005,.955,lty=c(1,2),legend=\n",
    "c(\"MIN EFFECT FOR ALL\",\"MIN EFFECT AT LEAST ONE\"),cex=.4)\n",
    "graphics.off()"
   ]
  },
  {
   "cell_type": "code",
   "execution_count": 57,
   "metadata": {
    "collapsed": false
   },
   "outputs": [
    {
     "name": "stdout",
     "output_type": "stream",
     "text": [
      "[[11  3  2  4]\n",
      " [ 3  3  0  0]\n",
      " [ 2  0  2  0]\n",
      " [ 4  0  0  4]]\n",
      "[[ 0.5        -0.5        -0.5        -0.5       ]\n",
      " [-0.5         0.83333333  0.5         0.5       ]\n",
      " [-0.5         0.5         1.          0.5       ]\n",
      " [-0.5         0.5         0.5         0.75      ]]\n",
      "[[1 0 1 0]]\n"
     ]
    },
    {
     "data": {
      "text/plain": [
       "matrix([[ 0.5]])"
      ]
     },
     "execution_count": 57,
     "metadata": {},
     "output_type": "execute_result"
    }
   ],
   "source": [
    "#Matrix algebra in Python\n",
    "#See numpy docs for more info - I'm not an expert, I'm a plodder\n",
    "\n",
    "import numpy as np\n",
    "\n",
    "#page 53\n",
    "M = np.matrix([[11,3,2,4],[3,3,0,0],[2,0,2,0],[4,0,0,4]])\n",
    "print(M)\n",
    "#print the inverse\n",
    "print(M.I)\n",
    "L = np.matrix([1,0,1,0])\n",
    "print(L)\n",
    "#the @ operator works in 3.5 and above only\n",
    "L@M.I@L.T"
   ]
  },
  {
   "cell_type": "code",
   "execution_count": null,
   "metadata": {
    "collapsed": true
   },
   "outputs": [],
   "source": []
  }
 ],
 "metadata": {
  "kernelspec": {
   "display_name": "Python 3",
   "language": "python",
   "name": "python3"
  },
  "language_info": {
   "codemirror_mode": {
    "name": "ipython",
    "version": 3
   },
   "file_extension": ".py",
   "mimetype": "text/x-python",
   "name": "python",
   "nbconvert_exporter": "python",
   "pygments_lexer": "ipython3",
   "version": "3.6.0"
  }
 },
 "nbformat": 4,
 "nbformat_minor": 2
}
