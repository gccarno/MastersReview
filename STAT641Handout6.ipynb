{
 "cells": [
  {
   "cell_type": "markdown",
   "metadata": {},
   "source": [
    "# Handout 6"
   ]
  },
  {
   "cell_type": "code",
   "execution_count": null,
   "metadata": {
    "collapsed": true
   },
   "outputs": [],
   "source": [
    "#Graphical Estimators of Location-Scale Parameters\n",
    "# See also HO 8"
   ]
  },
  {
   "cell_type": "code",
   "execution_count": null,
   "metadata": {
    "collapsed": true
   },
   "outputs": [],
   "source": [
    "# Method of Moments (MOM) Estimators"
   ]
  },
  {
   "cell_type": "code",
   "execution_count": null,
   "metadata": {
    "collapsed": true
   },
   "outputs": [],
   "source": [
    "#Maximum Likelihood Estimation (MLE)"
   ]
  },
  {
   "cell_type": "code",
   "execution_count": null,
   "metadata": {
    "collapsed": true
   },
   "outputs": [],
   "source": [
    "#mle_exp.R now mle_exp.py\n",
    "t = [15.321,9.008,20.104,7.729,45.154,8.404,5.332,0.577,4.305,4.517,12.594,\n",
    "6.829,3.291,37.175,0.841,1.317,7.613,20.582,2.030,10.001,4.666,12.933,\n",
    "0.591,39.454,8.875]"
   ]
  },
  {
   "cell_type": "code",
   "execution_count": null,
   "metadata": {
    "collapsed": true
   },
   "outputs": [],
   "source": [
    "#Distribution-Free Summaries\n",
    "#Sample Standard Deviation\n",
    "#Sample Skewness\n",
    "#Sample Kurtosis\n",
    "#Sample alpha-trimmed mean\n",
    "\n",
    "#unbiased estimator of mu\n",
    "#unbiased estimator of sigma-squared\n",
    "#modified estimator of skewness\n",
    "#modifed estimator of excess kurtosis\n"
   ]
  },
  {
   "cell_type": "code",
   "execution_count": null,
   "metadata": {
    "collapsed": true
   },
   "outputs": [],
   "source": [
    "#Estimators Based on Quantiles\n",
    "#Median\n",
    "#Quartiles\n",
    "#Five Number Summary of Data\n",
    "#Interquartile Range (IQR)\n",
    "#Range\n",
    "#MAD\n",
    "#m-estimator of Location"
   ]
  },
  {
   "cell_type": "code",
   "execution_count": null,
   "metadata": {
    "collapsed": true
   },
   "outputs": [],
   "source": [
    "#ozonesum.R to ozonesum.py"
   ]
  },
  {
   "cell_type": "code",
   "execution_count": null,
   "metadata": {
    "collapsed": true
   },
   "outputs": [],
   "source": [
    "#Pearson Correlation Coefficient"
   ]
  },
  {
   "cell_type": "code",
   "execution_count": null,
   "metadata": {
    "collapsed": true
   },
   "outputs": [],
   "source": [
    "#Spearman Rank Correlation"
   ]
  },
  {
   "cell_type": "code",
   "execution_count": null,
   "metadata": {
    "collapsed": true
   },
   "outputs": [],
   "source": [
    "#Sample Autocorrelation Function\n",
    "#ozone_ts.R"
   ]
  }
 ],
 "metadata": {
  "kernelspec": {
   "display_name": "Python 3",
   "language": "python",
   "name": "python3"
  },
  "language_info": {
   "codemirror_mode": {
    "name": "ipython",
    "version": 3
   },
   "file_extension": ".py",
   "mimetype": "text/x-python",
   "name": "python",
   "nbconvert_exporter": "python",
   "pygments_lexer": "ipython3",
   "version": "3.6.0"
  }
 },
 "nbformat": 4,
 "nbformat_minor": 2
}
