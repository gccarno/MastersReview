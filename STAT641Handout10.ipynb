{
 "cells": [
  {
   "cell_type": "markdown",
   "metadata": {},
   "source": [
    "# Handout 10"
   ]
  },
  {
   "cell_type": "code",
   "execution_count": null,
   "metadata": {
    "collapsed": true
   },
   "outputs": [],
   "source": [
    "# Sampling Distribution of Mean, Median and Standard Deviation\n",
    "r=10000\n",
    "x = rep(0,10)\n",
    "m10 = rep(0,r)\n",
    "q10 = rep(0,r)\n",
    "sq = rep(0,r)\n",
    "s10 = rep(0,r)\n",
    "for (i in 1:r){\n",
    "x = rnorm(10)\n",
    "m10[i] = mean(x)\n",
    "q10[i] = median(x)\n",
    "s10[i] = sd(x)}\n",
    "x = rep(0,25)\n",
    "m25 = rep(0,r)\n",
    "q25 = rep(0,r)\n",
    "s2 = rep(0,r)\n",
    "s25 = rep(0,r)\n",
    "for (i in 1:r){\n",
    "x= rnorm(25)\n",
    "m25[i] = mean(x)\n",
    "q25[i] = median(x)\n",
    "s25[i] = sd(x)}\n",
    "x= rep(0,100)\n",
    "m100 = rep(0,r)\n",
    "q100 = rep(0,r)\n",
    "sq = rep(0,r)\n",
    "s100 = rep(0,r)\n",
    "for (i in 1:r){\n",
    "x= rnorm(100)\n",
    "m100[i] = mean(x)\n",
    "q100[i] = median(x)\n",
    "s100[i] = sd(x)}\n",
    "outmean10 = c(mean(m10), mean(q10), mean(s10))\n",
    "outmean25 = c(mean(m25), mean(q25), mean(s25))\n",
    "outmean100 = c(mean(m100), mean(q100), mean(s100))\n",
    "outmean = cbind(outmean10,outmean25,outmean100)\n",
    "outmean\n",
    "outsd10 = c(sd(m10), sd(q10), sd(s10))\n",
    "outsd25 = c(sd(m25), sd(q25), sd(s25))\n",
    "outsd100 = c(sd(m100), sd(q100), sd(s100))\n",
    "outsd = cbind(outsd10,outsd25,outsd100)\n",
    "outsd\n",
    "boxplot(m10,m25,m100,xlab=\"Sample Size\",lab=c(10,10,7),\n",
    "ylab=\"Sample Mean\",\n",
    "main=\"Boxplots of 10000 Sample Means from N(0,1)\",\n",
    "names=c(\"10\",\"25\",\"100\"),cex=.75)\n",
    "boxplot(q10,q25,q100,xlab=\"Sample Size\",lab=c(10,10,7),\n",
    "ylab=\"Sample Median\",\n",
    "main=\"Boxplots of 10000 Sample Medians from N(0,1)\",\n",
    "names=c(\"10\",\"25\",\"100\"),cex=.75)\n",
    "boxplot(s10,s25,s100,xlab=\"Sample Size\",lab=c(10,10,7),\n",
    "ylab=\"Sample Standard Deviation\",\n",
    "main=\"Boxplots of 10000 of Sample Std Dev"
   ]
  },
  {
   "cell_type": "code",
   "execution_count": null,
   "metadata": {
    "collapsed": true
   },
   "outputs": [],
   "source": [
    "#for the weibull gamma = .61 & alpha =.62"
   ]
  },
  {
   "cell_type": "code",
   "execution_count": null,
   "metadata": {
    "collapsed": true
   },
   "outputs": [],
   "source": [
    "#for the t distribution"
   ]
  },
  {
   "cell_type": "code",
   "execution_count": null,
   "metadata": {
    "collapsed": true
   },
   "outputs": [],
   "source": [
    "#convert bootsampMed.R to bootsampMed.py\n",
    "y = c(1600,4100,5700,7600,12400,12900,19300,21500,28000,36300,91400)\n",
    "mhat = median(y)\n",
    "M = 20000\n",
    "d = numeric(M)\n",
    "for(i in 1:M)d[i] = median(sample(y,replace=T))\n",
    "hist(d)\n",
    "bootmean = mean(d)\n",
    "bootstd = sd(d)\n",
    "bootquant = quantile(d)\n",
    "postscript(\"bootexample20000\",height=8,horizontal=F)\n",
    "probs = seq(0,1,.01)\n",
    "Qd = quantile(d,probs)\n",
    "boxplot(d,main=\"Empirical Quantile for Sample Median\",\n",
    "ylab=\"Median Life Lengths of Engine Part\",plot=T)\n",
    "plot(probs,Qd,type=\"l\",ylab=\"Q(u) for Median\",xlab=\"u\",xlim=c(0,1),lab=c(10,11,7))\n",
    "title(\"Empirical Quantile for Sample Median\",cex=.75)\n",
    "plot(density(d),type=\"l\",xlab=\"Median Life Lengths\",ylab=\"PDF of Sample Median\")\n",
    "title(\"Empirical pdf for Sample Median\",cex=.75)\n",
    "qqnorm(d,main=\"Normal Prob Plot of Sample Median\",\n",
    "xlab=\"normal quantiles\",ylab=\"Sample Medians\",\n",
    "lab=c(7,7,7),cex=.75)\n",
    "qqline(d)\n"
   ]
  },
  {
   "cell_type": "code",
   "execution_count": null,
   "metadata": {
    "collapsed": true
   },
   "outputs": [],
   "source": [
    "# A few bootstrap samples\n",
    "y = c(1600,4100,5700,7600,12400,12900,19300,21500,28000,36300,91400)\n",
    "n = length(y)\n",
    "K = 20\n",
    "sam = matrix(0,K,n)\n",
    "for(i in 1:K)\n",
    "{\n",
    "sam[i,] = sample(y,replace=T)\n",
    "}"
   ]
  },
  {
   "cell_type": "code",
   "execution_count": null,
   "metadata": {
    "collapsed": true
   },
   "outputs": [],
   "source": [
    "#mle of weibull\n",
    "y = c(15.321, 9.008, 20.104, 7.729, 45.154, 8.404, 5.332, 0.577, 4.305, 4.517,\n",
    "12.594, 6.829, 3.291, 37.175, 0.841, 1.317, 7.613, 20.582, 2.030, 10.001,\n",
    "4.666, 12.933, 0.591, 39.454, 8.875)\n",
    "library(MASS)\n",
    "fitdistr(y,\"weibull\")"
   ]
  },
  {
   "cell_type": "code",
   "execution_count": null,
   "metadata": {
    "collapsed": true
   },
   "outputs": [],
   "source": [
    "#parabootweibull_seMLE.R\n",
    "x = c(15.321, 9.008, 20.104, 7.729, 45.154, 8.404, 5.332, 0.577, 4.305, 4.517,\n",
    "12.594, 6.829, 3.291, 37.175, 0.841, 1.317, 7.613, 20.582, 2.030, 10.001,\n",
    "4.666, 12.933, 0.591, 39.454, 8.875)\n",
    "n = length(x)\n",
    "library(MASS)\n",
    "fitdistr(x,\"weibull\")\n",
    "# OUTPUT from R:\n",
    "#\n",
    "# shape scale\n",
    "# 0.9839245 11.4852981\n",
    "# ( 0.1512936) ( 2.4660607)\n",
    "gamma = 0.9839245\n",
    "alpha = 11.4852981\n",
    "gamma = fitdistr(x,\"weibull\")$estimate[1]\n",
    "alpha = fitdistr(x,\"weibull\")$estimate[2]\n",
    "B = 10000\n",
    "W = matrix(0,B,n)\n",
    "A = numeric(B)\n",
    "A = rep(0,B)\n",
    "G = numeric(B)\n",
    "G = rep(0,B)\n",
    "S = numeric(B)\n",
    "S = rep(0,B)\n",
    "{\n",
    "for (i in 1:B)\n",
    "W[i,] = rweibull(n,gamma,alpha)\n",
    "}\n",
    "{\n",
    "for (i in 1:B)\n",
    "G[i] = fitdistr(W[i,],\"weibull\")$estimate[1]\n",
    "}\n",
    "{\n",
    "for (i in 1:B)\n",
    "A[i] = fitdistr(W[i,],\"weibull\")$estimate[2]\n",
    "}\n",
    "{\n",
    "for (i in 1:B)\n",
    "S[i] = exp(-(20/A[i])^G[i])\n",
    "}\n",
    "summary(S)\n",
    "sd(S)\n",
    "boxplot(S)\n",
    "out=c(mean(G),sd(G),mean(A),sd(A))"
   ]
  }
 ],
 "metadata": {
  "kernelspec": {
   "display_name": "Python 3",
   "language": "python",
   "name": "python3"
  },
  "language_info": {
   "codemirror_mode": {
    "name": "ipython",
    "version": 3
   },
   "file_extension": ".py",
   "mimetype": "text/x-python",
   "name": "python",
   "nbconvert_exporter": "python",
   "pygments_lexer": "ipython3",
   "version": "3.6.0"
  }
 },
 "nbformat": 4,
 "nbformat_minor": 2
}
