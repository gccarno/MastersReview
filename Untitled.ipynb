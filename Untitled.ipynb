{
 "cells": [
  {
   "cell_type": "markdown",
   "metadata": {},
   "source": [
    "# Handout 3"
   ]
  },
  {
   "cell_type": "code",
   "execution_count": 3,
   "metadata": {
    "collapsed": false
   },
   "outputs": [
    {
     "data": {
      "text/plain": [
       "[983,\n",
       " 953,\n",
       " 371,\n",
       " 556,\n",
       " 848,\n",
       " 58,\n",
       " 871,\n",
       " 964,\n",
       " 228,\n",
       " 89,\n",
       " 687,\n",
       " 217,\n",
       " 1,\n",
       " 248,\n",
       " 807,\n",
       " 316,\n",
       " 145,\n",
       " 725,\n",
       " 236,\n",
       " 350,\n",
       " 452,\n",
       " 605,\n",
       " 815,\n",
       " 471,\n",
       " 380,\n",
       " 669,\n",
       " 341,\n",
       " 417,\n",
       " 171,\n",
       " 377,\n",
       " 524,\n",
       " 626,\n",
       " 932,\n",
       " 348,\n",
       " 919]"
      ]
     },
     "execution_count": 3,
     "metadata": {},
     "output_type": "execute_result"
    }
   ],
   "source": [
    "# random sample on page 4\n",
    "\n",
    "import random \n",
    "random.sample(range(1,1000),35)"
   ]
  },
  {
   "cell_type": "code",
   "execution_count": null,
   "metadata": {
    "collapsed": true
   },
   "outputs": [],
   "source": []
  }
 ],
 "metadata": {
  "kernelspec": {
   "display_name": "Python 3",
   "language": "python",
   "name": "python3"
  },
  "language_info": {
   "codemirror_mode": {
    "name": "ipython",
    "version": 3
   },
   "file_extension": ".py",
   "mimetype": "text/x-python",
   "name": "python",
   "nbconvert_exporter": "python",
   "pygments_lexer": "ipython3",
   "version": "3.6.0"
  }
 },
 "nbformat": 4,
 "nbformat_minor": 2
}
