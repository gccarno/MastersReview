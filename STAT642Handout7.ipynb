{
 "cells": [
  {
   "cell_type": "markdown",
   "metadata": {},
   "source": [
    "# Handout 7"
   ]
  },
  {
   "cell_type": "code",
   "execution_count": 17,
   "metadata": {
    "collapsed": false
   },
   "outputs": [
    {
     "data": {
      "text/plain": [
       "(5, 8)"
      ]
     },
     "execution_count": 17,
     "metadata": {},
     "output_type": "execute_result"
    },
    {
     "data": {
      "image/png": "[encoded data removed]",
      "text/plain": [
       "<matplotlib.figure.Figure at 0x17ba4df34e0>"
      ]
     },
     "metadata": {},
     "output_type": "display_data"
    }
   ],
   "source": [
    "#program on page 17 - profile_withbars.R\n",
    "%matplotlib inline\n",
    "import matplotlib.pyplot as plt\n",
    "import pandas\n",
    "Ca100 = [5.8,7.3,7.4,7.3]\n",
    "Ca200 = [7.4,7.3,7.6,7.1]\n",
    "Ca300 = [6.4,7.4,7.2,6.6]\n",
    "SE = .153\n",
    "Ca = pandas.DataFrame({\"Ca100\":Ca100,\n",
    "           \"Ca200:\":Ca200,\n",
    "           \"Ca300\":Ca300})\n",
    "x = [1,2,3,4]\n",
    "def Bounds(Calci,SE):\n",
    "    Ly,Uy = [],[]\n",
    "    for mem in Calci:\n",
    "        Ly.append(mem-SE)\n",
    "        Uy.append(mem-SE)\n",
    "    return [1,2,3,4],[1,2,3,4],Ly,Uy\n",
    "LxCa100,UxCa100,LyCa100,UyCa100 = Bounds(Ca100,SE)\n",
    "LxCa200,UxCa200,LyCa200,UyCa200 = Bounds(Ca200,SE)\n",
    "LxCa300,UxCa300,LyCa300,UyCa300 = Bounds(Ca300,SE)\n",
    "plt.plot(x,Ca100)\n",
    "plt.errorbar(x, Ca100, yerr=SE, fmt='o')\n",
    "plt.plot(x,Ca200)\n",
    "plt.errorbar(x, Ca200, yerr=SE, fmt='o')\n",
    "plt.plot(x,Ca300)\n",
    "plt.errorbar(x, Ca300, yerr=SE, fmt='o')\n",
    "plt.xlabel(\"Ca Level\")\n",
    "plt.ylabel(\"Mean Diamter Change +/- SE\")\n",
    "plt.title(\"Profile Plot of Ca*pH Interaction with SE\")\n",
    "plt.legend([\"Ca100\",\"Ca200\",\"Ca300\",\"Ca100\",\"Ca200\",\"Ca300\"])\n",
    "plt.xticks(x,[\"pH4\",\"pH5\",\"pH6\",\"pH7\"])\n",
    "plt.ylim(5,8)\n"
   ]
  },
  {
   "cell_type": "code",
   "execution_count": null,
   "metadata": {
    "collapsed": true
   },
   "outputs": [],
   "source": [
    "#FactorialCapH.R - similiar analysis to SAS, need to find a better method in Python\n",
    "y = c(5.2, 5.9, 6.3, 7.1, 7.3, 7.5, 7.6, 7.2, 7.4, 7.2, 7.5, 7.2,\n",
    "7.6, 7.0, 7.6, 7.5, 7.3, 7.1, 7.6, 7.4, 7.8, 7.4, 7.0, 6.9,\n",
    "6.4, 6.7, 6.1, 7.3, 7.5, 7.4, 7.2, 7.3, 7.1, 6.8, 6.6, 6.4)\n",
    "Calcium =c(rep(\"100\",12), rep(\"200\",12), rep(\"300\",12))\n",
    "Ca = factor(Calcium)\n",
    "ph = c(rep(\"4\",3),rep(\"5\",3),rep(\"6\",3),rep(\"7\",3),\n",
    "rep(\"4\",3),rep(\"5\",3),rep(\"6\",3),rep(\"7\",3),\n",
    "rep(\"4\",3),rep(\"5\",3),rep(\"6\",3),rep(\"7\",3))\n",
    "pH = factor(ph)\n",
    "CapH = c(rep(\"100-4\",3), rep(\"100-5\",3), rep(\"100-6\",3), rep(\"100-7\",3),\n",
    "rep(\"200-4\",3), rep(\"200-5\",3), rep(\"200-6\",3), rep(\"200-7\",3),\n",
    "rep(\"300-4\",3), rep(\"300-5\",3), rep(\"300-6\",3), rep(\"300-7\",3))\n",
    "CapH = factor(CapH)\n",
    "rawE = cbind(y,Ca,pH)\n",
    "rawE = factor(rawE)\n",
    "data_Effects = data.frame(rawE)\n",
    "rawC = cbind(y,CapH)\n",
    "rawC = factor(rawC)\n",
    "data_CellMs = data.frame(rawC)\n",
    "#Effects Model\n",
    "modelE = lm(y~pH*Ca,data=data_Effects)\n",
    "summary(aov(modelE))\n",
    "#Cell Means Model\n",
    "modelC = lm(y~CapH,data=data_CellMs)\n",
    "summary(aov(modelC))\n",
    "#Contrast matrix for linear, quad, and cubic trends\n",
    "trendmatrix = matrix(c(-1, -1, -1, -1, 0, 0, 0, 0, 1, 1, 1, 1,\n",
    "1, 1, 1, 1, -2, -2, -2, -2, 1, 1, 1, 1,\n",
    "-3, -1, 1, 3, -3, -1, 1, 3, -3,-1, 1, 3,\n",
    "1, -1, -1, 1, 1, -1, -1, 1, 1,-1,-1, 1,\n",
    "-1, 3, -3, 1, -1, 3, -3, 1, -1, 3,-3, 1),12,5)\n",
    "trendmatrix = t(trendmatrix)\n",
    "rownames(trendmatrix) = c(\"Linear Trend Ca\", \"Quad Trend Ca\", \"Linear Trend pH\",\n",
    "                          \"Quad Trend pH\", \"Cubic fit.contrast(modelC, \"CapH\", trendmatrix)\n",
    "#Pairwise Comparisons of Ca and pH means:\n",
    "lsmeans(modelC,\"CapH\")\n",
    "#Comparisons with Unadjusted p-values\n",
    "pairwise.t.test(y,CapH,p.adjust=\"none\")\n",
    "#Pairwise comparisons yielding Tukey Adjusted p-values\n",
    "TukeyHSD(aov(y~CapH,data=data_CellMs))\n",
    "#Print model summaries                          "
   ]
  },
  {
   "cell_type": "code",
   "execution_count": null,
   "metadata": {
    "collapsed": true
   },
   "outputs": [],
   "source": [
    "#Sample size for Two way Anova?"
   ]
  },
  {
   "cell_type": "code",
   "execution_count": null,
   "metadata": {
    "collapsed": true
   },
   "outputs": [],
   "source": [
    "#factorial_unequaln.R\n",
    "options(contrasts = c(\"contr.sum\", \"contr.poly\"))\n",
    "rw = c(19,20,21,24,26,22,25,25,19,25,27,21,24,24,31,32,33,32)\n",
    "dose = c(rep(\"D1\",9), rep(\"D2\",9))\n",
    "dosefac = factor(dose)\n",
    "fung = c(rep(\"F1\",3), rep(\"F2\",2), rep(\"F3\",4),\n",
    "rep(\"F1\",2), rep(\"F2\",3), rep(\"F3\",4))\n",
    "fungfac = factor(fung)\n",
    "datafac = cbind(rw,dosefac,fungfac)\n",
    "modelfac = lm(rw~dosefac + fungfac + dosefac:fungfac)\n",
    "#outputs Type I Sum of Squares\n",
    "anova(modelfac)\n",
    "#outputs Type III Sum of Squares\n",
    "drop1(modelfac,.~.,test=\"F\")\n",
    "#Cell Means model\n",
    "trt = c(rep(\"D1F1\",3),rep(\"D1F2\",2),rep(\"D1F3\",4),\n",
    "rep(\"D2F1\",2),rep(\"D2F2\",3),rep(\"D2F3\",4))\n",
    "trtfac = factor(trt)\n",
    "datatrt = cbind(rw,trtfac)\n",
    "modeltrt = lm(rw~trtfac)\n",
    "anova(modeltrt)\n",
    "#Pairwise Comparisons of Treatment means:\n",
    "lsmeans(modeltrt,\"trtfac\")\n",
    "#Comparisons with Unadjusted p-values\n",
    "pairwise.t.test(rw,trtfac,p.adjust=\"none\")\n",
    "#Pairwise comparisons yielding Tukey Adjusted p-values\n",
    "TukeyHSD(aov(rw~trtfac))"
   ]
  },
  {
   "cell_type": "code",
   "execution_count": null,
   "metadata": {
    "collapsed": true
   },
   "outputs": [],
   "source": [
    "#zinc sludge contrasts page 61 - cotinued in final pages as well"
   ]
  },
  {
   "cell_type": "code",
   "execution_count": null,
   "metadata": {
    "collapsed": true
   },
   "outputs": [],
   "source": [
    "#analysis of shrimp data"
   ]
  }
 ],
 "metadata": {
  "kernelspec": {
   "display_name": "Python 3",
   "language": "python",
   "name": "python3"
  },
  "language_info": {
   "codemirror_mode": {
    "name": "ipython",
    "version": 3
   },
   "file_extension": ".py",
   "mimetype": "text/x-python",
   "name": "python",
   "nbconvert_exporter": "python",
   "pygments_lexer": "ipython3",
   "version": "3.6.0"
  }
 },
 "nbformat": 4,
 "nbformat_minor": 2
}
