{
 "cells": [
  {
   "cell_type": "markdown",
   "metadata": {},
   "source": [
    "# Handout 11"
   ]
  },
  {
   "cell_type": "code",
   "execution_count": null,
   "metadata": {
    "collapsed": true
   },
   "outputs": [],
   "source": [
    "#Various CI for varying distrubtions"
   ]
  },
  {
   "cell_type": "code",
   "execution_count": null,
   "metadata": {
    "collapsed": true
   },
   "outputs": [],
   "source": [
    "#Recreate page 17, 18, and 19?"
   ]
  },
  {
   "cell_type": "code",
   "execution_count": null,
   "metadata": {
    "collapsed": true
   },
   "outputs": [],
   "source": [
    "#compare Wald, Wilson, Agresti-Coull and Clopper-Pearson CI"
   ]
  },
  {
   "cell_type": "code",
   "execution_count": null,
   "metadata": {
    "collapsed": true
   },
   "outputs": [],
   "source": [
    "#Sample Size Determination"
   ]
  },
  {
   "cell_type": "code",
   "execution_count": 6,
   "metadata": {
    "collapsed": false
   },
   "outputs": [
    {
     "name": "stdout",
     "output_type": "stream",
     "text": [
      "Lower Bound: 32,  Upper Bound: 44, Coverage: 0.9518759680040765\n"
     ]
    }
   ],
   "source": [
    "#Program to determine Distrution Free CI for quartiles\n",
    "import math\n",
    "from scipy.stats import binom\n",
    "n, L, P = 50, .95, .75\n",
    "\n",
    "s = math.ceil(n*P)-1\n",
    "r=math.floor(n*P)+1\n",
    "cov = 0\n",
    "#consider recoding this loop\n",
    "while (s<n-1 and r>1 and cov<L):\n",
    "    s += 1\n",
    "    cov=binom.cdf(s-1,n,P)-binom.cdf(r-1,n,P)\n",
    "    if (cov>=L):\n",
    "        break\n",
    "    r-=1\n",
    "    cov=binom.cdf(s-1,n,P)-binom.cdf(r-1,n,P)\n",
    "\n",
    "print('Lower Bound: {},  Upper Bound: {}, Coverage: {}'.format(r, s, cov))"
   ]
  },
  {
   "cell_type": "code",
   "execution_count": 24,
   "metadata": {
    "collapsed": false
   },
   "outputs": [
    {
     "name": "stdout",
     "output_type": "stream",
     "text": [
      "[0.99999999999999822, 0.99999999999990941, 0.99999999999773337, 0.99999999996291677, 0.99999999955382179, 0.99999999579014798, 0.99999996756259435, 0.99999979013225726, 0.9999988364441954, 0.99999438589990675, 0.99997613866832324, 0.99990978509892869, 0.9996941359983964, 0.99906377708914818, 0.99739782854327785, 0.99339955203318908, 0.98465332216736989, 0.96716086243573152, 2, 2, 2, 2, 2, 2, 2, 2, 2, 2, 2, 2, 2, 2, 2, 2, 2, 2, 2, 2, 2, 2, 2, 2, 2, 2, 2, 2, 2, 2, 2, 2]\n",
      "50\n",
      "50\n",
      "Given r is 18 with coverage probability 0.9671608624357315, the CI extends from observation 18 to 33\n"
     ]
    }
   ],
   "source": [
    "#page 32\n",
    "import math\n",
    "from scipy.stats import binom\n",
    "n, cov, r, imin, i, ans, anst = 50, .95, 0, 0, 0, [], []\n",
    "cov = .95\n",
    "r = 0\n",
    "imin = 0\n",
    "i = 0\n",
    "m = range\n",
    "ans = [binom.cdf(n-m,n,.5)-binom.cdf(m-1,n,.5) for m in range(1,n+1)]\n",
    "len(ans)\n",
    "for i in range(n):\n",
    "    if(ans[i]<cov):\n",
    "        anst.append(2)\n",
    "    if(ans[i]>=cov):\n",
    "        anst.append(ans[i])\n",
    "ansmin = min(anst)\n",
    "imin = anst.index(ansmin)\n",
    "#Python uses 0 indexing\n",
    "r = imin + 1\n",
    "coverage = ans[imin]\n",
    "print(\"Given r is {} with coverage probability {}, the CI extends from observation {} to {}\".format(r,coverage,r,n-r+1))"
   ]
  },
  {
   "cell_type": "code",
   "execution_count": null,
   "metadata": {
    "collapsed": true
   },
   "outputs": [],
   "source": [
    "#Tables for all CI"
   ]
  },
  {
   "cell_type": "code",
   "execution_count": 26,
   "metadata": {
    "collapsed": false
   },
   "outputs": [
    {
     "name": "stdout",
     "output_type": "stream",
     "text": [
      "One Sided : 2.5952170134422046, Two Sided : 2.8539858242073053\n"
     ]
    }
   ],
   "source": [
    "#From HO 11 pg 44\n",
    "#Coefficents for One and Two Sided Tolerance Intervals\n",
    "from scipy.stats import norm\n",
    "from scipy.stats import chi2\n",
    "from math import sqrt\n",
    "n, G, P = 100, .90, .99\n",
    "chi = chi2.ppf(1-G,n-1)\n",
    "z = norm.ppf((1+P)/2)\n",
    "K2Side = sqrt(((n-1)*(n+1)*z**2)/(n*chi))\n",
    "\n",
    "za = norm.ppf(G)\n",
    "zb = norm.ppf(P)\n",
    "a = 1-za**2/(2*(n-1))\n",
    "b = zb**2-za**2/n\n",
    "K1Side = (zb+sqrt(zb**2-a*b))/a\n",
    "\n",
    "print(\"One Sided : {}, Two Sided : {}\".format(K1Side, K2Side))"
   ]
  },
  {
   "cell_type": "code",
   "execution_count": 32,
   "metadata": {
    "collapsed": false
   },
   "outputs": [
    {
     "name": "stdout",
     "output_type": "stream",
     "text": [
      "m equal 8 and coverage is 0.9544028262056716\n"
     ]
    }
   ],
   "source": [
    "#Code from page 51\n",
    "import math\n",
    "from scipy.stats import binom\n",
    "n, G, P, m, imin, i, ans, anst = 130, .95, .90, 0, 0, 0, [], []\n",
    "r= range(1,n+1) \n",
    "ans= [binom.cdf(r-1,n,1-P) for r in range(1,n+1)]\n",
    "for i in range(n):\n",
    "    if(ans[i]<=1-G):\n",
    "        anst.append(ans[i])\n",
    "    if(ans[i]>1-G):\n",
    "        anst.append(-1)\n",
    "ansmax= max(anst)\n",
    "imax= anst.index(ansmax)\n",
    "#Python indexes at zero\n",
    "m= imax + 1\n",
    "coverage= 1-ans[imax]\n",
    "print(\"m equal {} and coverage is {}\".format(m, coverage))"
   ]
  },
  {
   "cell_type": "code",
   "execution_count": 44,
   "metadata": {
    "collapsed": false
   },
   "outputs": [
    {
     "name": "stdout",
     "output_type": "stream",
     "text": [
      "Upper Bound 0.8500000000000001, Lower Bound 0.45000000000000007\n"
     ]
    }
   ],
   "source": [
    "#replicate boot1,ci.R as boot1_ci.py on pg 61\n",
    "import numpy as np\n",
    "x= [1354,1552,1766,1325,2183,1354,1299,627,695,2586,2420,71,2195,1825,159,1577,3725,884,1014,965]\n",
    "n= len(x)\n",
    "m= sum([i > 1200 for i in x])\n",
    "thest = m/n\n",
    "\n",
    "#python is not R, do not need to initialize list first I think\n",
    "thestS = []\n",
    "\n",
    "for i in range(1,10000):\n",
    "    thestS.append(sum([i>1200 for i in np.random.choice(x,size=20)])/20)\n",
    "\n",
    "RS = sorted([a-thest for a in thestS])\n",
    "LRS = RS[249]\n",
    "URS = RS[9749]\n",
    "thL = thest-URS\n",
    "thU = thest-LRS\n",
    "print(\"Upper Bound {}, Lower Bound {}\".format(thU, thL))"
   ]
  },
  {
   "cell_type": "code",
   "execution_count": 46,
   "metadata": {
    "collapsed": false
   },
   "outputs": [
    {
     "name": "stdout",
     "output_type": "stream",
     "text": [
      "Upper Bound 1718.5, Lower Bound 912.5\n"
     ]
    }
   ],
   "source": [
    "#replicate boot2,ci.R as boot2_ci.py on pg 62\n",
    "#numpy also has a median function by statistics is a standard module\n",
    "import numpy as np\n",
    "import statistics as stat\n",
    "x= [1354,1552,1766,1325,2183,1354,1299,627,695,2586,2420,71,2195,1825,159,1577,3725,884,1014,965]\n",
    "\n",
    "thest = stat.median(x)\n",
    "\n",
    "#python is not R, do not need to initialize list first I think\n",
    "thestS = []\n",
    "\n",
    "for i in range(1,10000):\n",
    "    thestS.append(stat.median(np.random.choice(x,size=20)))\n",
    "\n",
    "RS = sorted([a-thest for a in thestS])\n",
    "LRS = RS[249]\n",
    "URS = RS[9749]\n",
    "thL = thest-URS\n",
    "thU = thest-LRS\n",
    "print(\"Upper Bound {}, Lower Bound {}\".format(thU, thL))"
   ]
  },
  {
   "cell_type": "code",
   "execution_count": 54,
   "metadata": {
    "collapsed": false
   },
   "outputs": [
    {
     "name": "stdout",
     "output_type": "stream",
     "text": [
      "Upper Bound 253.95667270531396, Lower Bound 61.484247076023394\n"
     ]
    }
   ],
   "source": [
    "#bootexp_ci.R as bootexp_ci.py\n",
    "#lookinto making boot function?\n",
    "import numpy as np\n",
    "import statistics as stat\n",
    "import math\n",
    "x= [3,5,7,18,43,85,91,98,100,130,230,487]\n",
    "n= len(x)\n",
    "thest = stat.mean(x)\n",
    "V = thest**2/n\n",
    "W = []\n",
    "for i in range(1,10000):\n",
    "    W.append(stat.mean(np.random.choice(x,size=n)))\n",
    "Z = sorted([math.sqrt(n)*(i-thest)/i for i in W])\n",
    "\n",
    "LZ = Z[249]\n",
    "UZ = Z[9749]\n",
    "thL = thest-UZ*math.sqrt(V)\n",
    "thU = thest-LZ*math.sqrt(V)\n",
    "#gives different answers if run multiple times?\n",
    "print(\"Upper Bound {}, Lower Bound {}\".format(thU, thL))"
   ]
  },
  {
   "cell_type": "code",
   "execution_count": 65,
   "metadata": {
    "collapsed": false
   },
   "outputs": [
    {
     "name": "stdout",
     "output_type": "stream",
     "text": [
      "-0.10234217469932183 0.0816432186535162\n",
      "0.444205156778387\n",
      "Upper Bound 0.5465473314777088, Lower Bound 0.3625619381248708\n"
     ]
    }
   ],
   "source": [
    "#boot3_ci.R as boot3_ci.py\n",
    "import numpy as np\n",
    "import statistics as stat\n",
    "import math\n",
    "x= [1354,1552,1766,1325,2183,1354,1299,627,695,2586,2420,71,2195,1825,159,1577,3725,884,1014,965]\n",
    "n = len(x)\n",
    "mn= stat.mean(x)\n",
    "thest = math.exp(-1200/mn)\n",
    "thestS = []\n",
    "for i in range(10000):\n",
    "    thestS.append(math.exp(-1200/stat.mean(np.random.choice(x,size=n))))\n",
    "RS = sorted([i-thest for i in thestS])\n",
    "LRS = RS[249]\n",
    "URS = RS[9749]\n",
    "print(LRS, URS)\n",
    "thL = thest-URS\n",
    "thU = thest-LRS\n",
    "print(thest)\n",
    "print(\"Upper Bound {}, Lower Bound {}\".format(thU, thL)) "
   ]
  },
  {
   "cell_type": "code",
   "execution_count": 68,
   "metadata": {
    "collapsed": false
   },
   "outputs": [
    {
     "name": "stdout",
     "output_type": "stream",
     "text": [
      "Lower Bound 0.34128339440763833, Upper Bound 0.5402752358443437 \n"
     ]
    }
   ],
   "source": [
    "#boot4_ci.R as boot4_ci.py\n",
    "#adding imports to each block so can be run independtly in any order\n",
    "import numpy as np\n",
    "import statistics as stat\n",
    "import math\n",
    "x= [1354,1552,1766,1325,2183,1354,1299,627,695,2586,2420,71,2195,1825,159,1577,3725,884,1014,965]\n",
    "n = len(x)\n",
    "mn= stat.mean(x)\n",
    "thhat = math.exp(-1200/mn)\n",
    "S2 = stat.variance(x)\n",
    "Vest= ((1200/(mn**2))**2)*(math.exp(-2400/mn))*(S2/n)\n",
    "z = []\n",
    "for i in range(10000):\n",
    "    t= np.random.choice(x,size=n)\n",
    "    V= ((1200/(stat.mean(t)**2))**2)*(math.exp(-2400/stat.mean(t)))*(stat.variance(t)/n)\n",
    "    z.append((math.exp(-1200/stat.mean(t))-thhat)/math.sqrt(V))\n",
    "z.sort()\n",
    "L = z[249]\n",
    "U = z[9749]\n",
    "thL = thhat-U*math.sqrt(Vest)\n",
    "thU = thhat-L*math.sqrt(Vest)\n",
    "print(\"Lower Bound {}, Upper Bound {} \".format(thL, thU))"
   ]
  },
  {
   "cell_type": "code",
   "execution_count": null,
   "metadata": {
    "collapsed": true
   },
   "outputs": [],
   "source": [
    "#parambootlogistic_ci.R\n",
    "#not clear how to estimate a distribution using python\n",
    "#look into RPy which allows you to do R in python\n",
    "#doing R in python seems like a bit of a cop out though\n",
    "x = c(16.20,9.37,25.80,9.55,12.86,15.34,18.08,10.76,14.92,9.75,17.10,13.97,\n",
    "15.08,9.24,11.99,13.60,8.16,12.82,12.89,13.59,16.23,14.19,9.03,9.58,13.68)\n",
    "#obtain MLE of the a=location and b=scale parameters in logistic model\n",
    "mleestD = coef(fitdistr(x,\"logistic\"))\n",
    "aD = mleestD[1]\n",
    "bD = mleestD[2]\n",
    "cvD = bD*pi/(sqrt(3)*aD)\n",
    "n = length(x)\n",
    "B = 9999\n",
    "W = matrix(0,B,n)\n",
    "cv = numeric(B)\n",
    "cv = rep(0,B)\n",
    "a = numeric(B)\n",
    "a = rep(0,B)\n",
    "b = numeric(B)\n",
    "b = rep(0,B)\n",
    "mleest = matrix(0,B,2)\n",
    "{\n",
    "for (i in 1:B)\n",
    "W[i,] = rlogis(n,aD,bD)\n",
    "}\n",
    "{\n",
    "for (i in 1:B)\n",
    "mleest[i,] = coef(fitdistr(W[i,],\"logistic\"))\n",
    "}\n",
    "a = mleest[,1]\n",
    "b = mleest[,2]\n",
    "cv = b*pi/(sqrt(3)*a)\n",
    "R = cv/cvD\n",
    "R = sort(R)\n",
    "L = R[250]\n",
    "U = R[9750]\n",
    "ci = c(cvD/U, cvD/L)"
   ]
  },
  {
   "cell_type": "code",
   "execution_count": 69,
   "metadata": {
    "collapsed": false
   },
   "outputs": [
    {
     "data": {
      "text/plain": [
       "(0.79081713422766475,\n",
       " 1.762503866894952,\n",
       " 15.989446030023661,\n",
       " 70.625972058293129)"
      ]
     },
     "execution_count": 69,
     "metadata": {},
     "output_type": "execute_result"
    }
   ],
   "source": [
    "#page 78\n",
    "from scipy.stats import exponweib\n",
    "x = [17.88 , 28.92 , 33.00 , 41.52 , 42.12 , 45.60 , 48.40, 51.84 ,\n",
    "51.96 , 54.12 , 55.56 , 67.80 , 68.64 , 68.64 , 68.88 , 84.12 ,\n",
    "93.12 , 98.64 , 105.12 , 105.84 , 127.92 , 128.04 , 173.40]\n",
    "#not clear how to fit a distribution in python?\n",
    "#how do I replicate the R code\n",
    "exponweib.fit(x)"
   ]
  },
  {
   "cell_type": "code",
   "execution_count": null,
   "metadata": {
    "collapsed": true
   },
   "outputs": [],
   "source": [
    "#page 79\n",
    "st = c(36.3, 52.4, 54.8, 57.1, 60.7, 41.7, 52.6, 54.8, 57.3,\n",
    "43.9, 52.7, 55.1, 57.7, 49.4, 53.1, 55.4, 57.8, 50.1,\n",
    "53.6, 55.9, 58.1, 50.8, 53.6, 56.0, 58.9, 51.9, 53.9,\n",
    "56.1, 59.0, 52.1, 53.9, 56.5, 59.1, 52.3, 54.1, 56.9,\n",
    "59.6, 52.3, 54.6, 57.1, 60.4,\n",
    "26.8, 29.6, 33.4, 35.0, 40.0, 41.9, 42.5)\n",
    "stcens = c(1,1,1,1,1,1,1,1,1,1,1,1,1,1,1,1,1,1,1,1,1,1,1,1,1,1,\n",
    "1,1,1,1,1,1,1,1,1,1,1,1,1,1,1,\n",
    "0,0,0,0,0,0,0)\n",
    "Surv(st, stcens)\n",
    "cords.surv <- survfit(Surv(st, stcens) ~ 1,conf.type=\"log-log\")\n",
    "summary(cords.surv)\n",
    "print(cords.surv,print.rmean=TRUE)"
   ]
  }
 ],
 "metadata": {
  "kernelspec": {
   "display_name": "Python 3",
   "language": "python",
   "name": "python3"
  },
  "language_info": {
   "codemirror_mode": {
    "name": "ipython",
    "version": 3
   },
   "file_extension": ".py",
   "mimetype": "text/x-python",
   "name": "python",
   "nbconvert_exporter": "python",
   "pygments_lexer": "ipython3",
   "version": "3.6.0"
  }
 },
 "nbformat": 4,
 "nbformat_minor": 2
}
