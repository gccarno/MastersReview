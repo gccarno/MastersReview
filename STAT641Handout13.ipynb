{
 "cells": [
  {
   "cell_type": "markdown",
   "metadata": {},
   "source": [
    "# Handout 13"
   ]
  },
  {
   "cell_type": "code",
   "execution_count": null,
   "metadata": {
    "collapsed": true
   },
   "outputs": [],
   "source": [
    "#Tests about population differences two distributions\n",
    "#C1 Both populations have a normal distribution\n",
    "# std dev equal, std dev unknown\n",
    "# X and Y are independent\n",
    "\n",
    "#Tests in three cases\n",
    "\n",
    "(\u0012) = 1 􀀀 pt(qt(1 􀀀 \u000b",
    "; n +m􀀀 2); n +m􀀀 2;\u0001)\n",
    "\n",
    "\n",
    "(\u0012) = pt(􀀀qt(1 􀀀 \u000b",
    "; n +m􀀀 2); n +m􀀀 2;\u0001)\n",
    "\n",
    "\n",
    "#power of the test\n",
    "\n",
    "d<- seq(-1,5,.25)\n",
    "pow<- 1-pt(qt(.95,57),57,d)\n",
    "pow<- round(pow,3)\n",
    "output<- cbind(d,pow)"
   ]
  },
  {
   "cell_type": "code",
   "execution_count": null,
   "metadata": {
    "collapsed": true
   },
   "outputs": [],
   "source": [
    "#Satterwaithe T-test"
   ]
  },
  {
   "cell_type": "code",
   "execution_count": null,
   "metadata": {
    "collapsed": true
   },
   "outputs": [],
   "source": [
    "#Wilcoxon Rank Sum Test"
   ]
  },
  {
   "cell_type": "code",
   "execution_count": null,
   "metadata": {
    "collapsed": true
   },
   "outputs": [],
   "source": [
    "#Example on page 15\n",
    "x = c(.9,.37,1.63,.83,.95,.78,.86,.61,.38,1.97)\n",
    "y = c(1.46,1.45,1.76,1.44,1.11,3.07,0.98,1.27,2.56,1.32)\n",
    "wilcox.test(x,y,alternative=\"l\",paired=F)"
   ]
  },
  {
   "cell_type": "code",
   "execution_count": null,
   "metadata": {
    "collapsed": true
   },
   "outputs": [],
   "source": [
    "#Table on Page 18"
   ]
  },
  {
   "cell_type": "code",
   "execution_count": null,
   "metadata": {
    "collapsed": true
   },
   "outputs": [],
   "source": [
    "#Paired Data Analysis"
   ]
  },
  {
   "cell_type": "code",
   "execution_count": null,
   "metadata": {
    "collapsed": true
   },
   "outputs": [],
   "source": [
    "#Sample Size Calculation Based on Power Specifications"
   ]
  },
  {
   "cell_type": "code",
   "execution_count": null,
   "metadata": {
    "collapsed": true
   },
   "outputs": [],
   "source": [
    "#Pearson Chi-square Test of Homogeneity of Proportions\n",
    "\n",
    "#replicate sas program on page 27\n",
    "\n",
    "#sample size calculation"
   ]
  },
  {
   "cell_type": "code",
   "execution_count": null,
   "metadata": {
    "collapsed": true
   },
   "outputs": [],
   "source": [
    "#Fisher Exact Test"
   ]
  },
  {
   "cell_type": "code",
   "execution_count": null,
   "metadata": {
    "collapsed": true
   },
   "outputs": [],
   "source": [
    "#Pearson Chi-Square Test of Independence"
   ]
  },
  {
   "cell_type": "code",
   "execution_count": null,
   "metadata": {
    "collapsed": true
   },
   "outputs": [],
   "source": [
    "#Odds Ratio and Relative Risk"
   ]
  },
  {
   "cell_type": "code",
   "execution_count": null,
   "metadata": {
    "collapsed": true
   },
   "outputs": [],
   "source": [
    "#Program on Page 46"
   ]
  },
  {
   "cell_type": "code",
   "execution_count": null,
   "metadata": {
    "collapsed": true
   },
   "outputs": [],
   "source": [
    "#Sensitivty and Specificity"
   ]
  },
  {
   "cell_type": "code",
   "execution_count": null,
   "metadata": {
    "collapsed": true
   },
   "outputs": [],
   "source": [
    "#McNemar's Test for Matched Pairs"
   ]
  },
  {
   "cell_type": "code",
   "execution_count": null,
   "metadata": {
    "collapsed": true
   },
   "outputs": [],
   "source": [
    "#Cochran-Mantel-Haenszel Test for Sets of Coningency Tables"
   ]
  },
  {
   "cell_type": "code",
   "execution_count": null,
   "metadata": {
    "collapsed": true
   },
   "outputs": [],
   "source": [
    "#Breslow Day Test"
   ]
  },
  {
   "cell_type": "code",
   "execution_count": null,
   "metadata": {
    "collapsed": true
   },
   "outputs": [],
   "source": [
    "#Hartley Test"
   ]
  },
  {
   "cell_type": "code",
   "execution_count": null,
   "metadata": {
    "collapsed": true
   },
   "outputs": [],
   "source": [
    "#Brown Forsythe Levene (BFL) Test for Homogeneity of Population Variances\n",
    "\n",
    "#packaged test\n",
    "\n",
    "# Normal code\n",
    "y1=c(4.2,2.9,.2,25.7,6.3,7.2,2.3,9.9,5.3,6.5)\n",
    "y2=c(.2,11.3,.3,17.1,51,10.1,.3,.6,7.9,7.2)\n",
    "y3=c(7.2,6.4,9.9,3.5,10.6,10.8,10.6,8.4,6,11.9)\n",
    "n1=length(y1)\n",
    "n2=length(y2)\n",
    "n3=length(y3)\n",
    "y=c(y1,y2,y3)\n",
    "grp=c(rep(1,n1),rep(2,n2),rep(3,n3))\n",
    "grp = as.factor(grp)\n",
    "m1 = median(y1)\n",
    "z1 = abs(y1-m1)\n",
    "m2 = median(y2)\n",
    "z2 = abs(y2-m2)\n",
    "m3 = median(y3)\n",
    "z3 = abs(y3-m3)\n",
    "z = c(z1,z2,z3)\n",
    "\n",
    "BFL = aov(z~grp)\n",
    "summary(BFL)"
   ]
  },
  {
   "cell_type": "code",
   "execution_count": null,
   "metadata": {
    "collapsed": true
   },
   "outputs": [],
   "source": [
    "#von Neuman Test for auto-correlation"
   ]
  },
  {
   "cell_type": "code",
   "execution_count": null,
   "metadata": {
    "collapsed": true
   },
   "outputs": [],
   "source": [
    "#Runs Test for Correlation"
   ]
  },
  {
   "cell_type": "code",
   "execution_count": null,
   "metadata": {
    "collapsed": true
   },
   "outputs": [],
   "source": [
    "#TukeyHSD.r as TukeyHSD.py"
   ]
  }
 ],
 "metadata": {
  "kernelspec": {
   "display_name": "Python 3",
   "language": "python",
   "name": "python3"
  },
  "language_info": {
   "codemirror_mode": {
    "name": "ipython",
    "version": 3
   },
   "file_extension": ".py",
   "mimetype": "text/x-python",
   "name": "python",
   "nbconvert_exporter": "python",
   "pygments_lexer": "ipython3",
   "version": "3.6.0"
  }
 },
 "nbformat": 4,
 "nbformat_minor": 2
}
