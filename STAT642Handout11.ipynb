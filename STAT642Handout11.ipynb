{
 "cells": [
  {
   "cell_type": "markdown",
   "metadata": {},
   "source": [
    "# Handout 11"
   ]
  },
  {
   "cell_type": "code",
   "execution_count": null,
   "metadata": {
    "collapsed": true
   },
   "outputs": [],
   "source": [
    "#RCBD"
   ]
  },
  {
   "cell_type": "code",
   "execution_count": null,
   "metadata": {
    "collapsed": true
   },
   "outputs": [],
   "source": [
    "#Relative Efficiency of blocking\n",
    "def relative_eff(r,t,MSB,MSE):\n",
    "    K = r*(t-1)/(r*t-1)\n",
    "    RE = K + (1-K) * MSB/MSE\n",
    "    return RE"
   ]
  },
  {
   "cell_type": "code",
   "execution_count": null,
   "metadata": {
    "collapsed": true
   },
   "outputs": [],
   "source": [
    "#RCBD on page 17"
   ]
  },
  {
   "cell_type": "code",
   "execution_count": 1,
   "metadata": {
    "collapsed": false
   },
   "outputs": [
    {
     "data": {
      "text/plain": [
       "FriedmanchisquareResult(statistic=6.4499999999999886, pvalue=0.091655374669467271)"
      ]
     },
     "execution_count": 1,
     "metadata": {},
     "output_type": "execute_result"
    }
   ],
   "source": [
    "#Friedman's Test\n",
    "from scipy.stats import friedmanchisquare\n",
    "#remake R code on page 29\n",
    "y = [26.1, 81.0, 10.5, 26.6, 12.9, 57.2, 25.0, 20.3,\n",
    "22.7, 53.2, 9.7, 19.6, 13.8, 47.1, 13.6, 23.6,\n",
    "22.5, 53.7, 10.8, 21.1, 13.7, 39.2, 13.7, 16.3,\n",
    "22.6, 53.1, 8.3, 21.6, 13.3, 37.0, 14.8, 14.8]\n",
    "A, B, C, D = y[:8], y[8:16], y[16:24], y[24:]\n",
    "friedmanchisquare(A, B, C, D)"
   ]
  },
  {
   "cell_type": "code",
   "execution_count": null,
   "metadata": {
    "collapsed": true
   },
   "outputs": [],
   "source": [
    "#rbskinpotential.sas page 24"
   ]
  },
  {
   "cell_type": "code",
   "execution_count": null,
   "metadata": {
    "collapsed": true
   },
   "outputs": [],
   "source": [
    "#lsdesign.sas page 37"
   ]
  },
  {
   "cell_type": "code",
   "execution_count": null,
   "metadata": {
    "collapsed": true
   },
   "outputs": [],
   "source": [
    "#relative efficiency of latin square design"
   ]
  }
 ],
 "metadata": {
  "kernelspec": {
   "display_name": "Python 3",
   "language": "python",
   "name": "python3"
  },
  "language_info": {
   "codemirror_mode": {
    "name": "ipython",
    "version": 3
   },
   "file_extension": ".py",
   "mimetype": "text/x-python",
   "name": "python",
   "nbconvert_exporter": "python",
   "pygments_lexer": "ipython3",
   "version": "3.6.0"
  }
 },
 "nbformat": 4,
 "nbformat_minor": 2
}
