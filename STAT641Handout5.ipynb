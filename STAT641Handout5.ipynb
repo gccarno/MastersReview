{
 "cells": [
  {
   "cell_type": "markdown",
   "metadata": {},
   "source": [
    "# Handout 5"
   ]
  },
  {
   "cell_type": "code",
   "execution_count": null,
   "metadata": {
    "collapsed": true
   },
   "outputs": [],
   "source": [
    "#Mean\n",
    "#Variance\n",
    "#Moments\n",
    "#Chebyshev Bound\n",
    "#Skewness\n",
    "#kurtosis\n",
    "#Standardized Curves Compared to Each Other\n",
    "#lognormal Graph and Table\n",
    "#Median\n",
    "#Trimmed Mean"
   ]
  },
  {
   "cell_type": "code",
   "execution_count": null,
   "metadata": {
    "collapsed": true
   },
   "outputs": [],
   "source": [
    "#Range\n",
    "#Standard Deviation\n",
    "#Interquartile Range\n",
    "#SemiInterquartile Range\n",
    "#Median Absolute Deviation - MAD\n"
   ]
  },
  {
   "cell_type": "code",
   "execution_count": null,
   "metadata": {
    "collapsed": true
   },
   "outputs": [],
   "source": [
    "#Correlation\n",
    "#Autocorrelation"
   ]
  }
 ],
 "metadata": {
  "kernelspec": {
   "display_name": "Python 3",
   "language": "python",
   "name": "python3"
  },
  "language_info": {
   "codemirror_mode": {
    "name": "ipython",
    "version": 3
   },
   "file_extension": ".py",
   "mimetype": "text/x-python",
   "name": "python",
   "nbconvert_exporter": "python",
   "pygments_lexer": "ipython3",
   "version": "3.6.0"
  }
 },
 "nbformat": 4,
 "nbformat_minor": 2
}
