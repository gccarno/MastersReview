{
 "cells": [
  {
   "cell_type": "markdown",
   "metadata": {},
   "source": [
    "# Handout 5"
   ]
  },
  {
   "cell_type": "code",
   "execution_count": 3,
   "metadata": {
    "collapsed": false
   },
   "outputs": [
    {
     "name": "stdout",
     "output_type": "stream",
     "text": [
      "Statistic 0.9917942881584167 , p-value 0.8061320781707764  Statistic 0.8939921855926514 , p-value 7.456945922967861e-07 \n"
     ]
    }
   ],
   "source": [
    "#Shapiro Wilk Test\n",
    "from scipy.stats import norm\n",
    "from scipy.stats import gamma\n",
    "from scipy.stats import shapiro\n",
    "\n",
    "x = norm.rvs(loc=5,scale=10,size=100)\n",
    "y = gamma.rvs(5,size=100)\n",
    "print('Statistic %s , p-value %s ' % shapiro(x),'Statistic %s , p-value %s ' % shapiro(y))"
   ]
  },
  {
   "cell_type": "code",
   "execution_count": null,
   "metadata": {
    "collapsed": true
   },
   "outputs": [],
   "source": [
    "# normal probablilty plot Q-Q plot\n",
    "\n",
    "# Box Plot\n",
    "\n",
    "#Outlier Test"
   ]
  },
  {
   "cell_type": "code",
   "execution_count": null,
   "metadata": {
    "collapsed": true
   },
   "outputs": [],
   "source": [
    "# Brown Forsythe Levene, BFL Test\n",
    "from scipy.stats import levene"
   ]
  },
  {
   "cell_type": "code",
   "execution_count": 16,
   "metadata": {
    "collapsed": false
   },
   "outputs": [
    {
     "name": "stdout",
     "output_type": "stream",
     "text": [
      "             sum_sq     df         F    PR(>F)\n",
      "C(hab)     76695.04    5.0  2.966874  0.014015\n",
      "Residual  744493.12  144.0       NaN       NaN\n"
     ]
    },
    {
     "data": {
      "image/png": "[encoded data removed]",
      "text/plain": [
       "<matplotlib.figure.Figure at 0x223cd6ec8d0>"
      ]
     },
     "metadata": {},
     "output_type": "display_data"
    },
    {
     "name": "stdout",
     "output_type": "stream",
     "text": [
      "Shaprio Statistic 0.6155734658241272 , Shapiro p-value 3.4583521851925936e-18 \n",
      "                 sum_sq     df         F    PR(>F)\n",
      "C(hab)     71145.653333    5.0  2.927782  0.015077\n",
      "Residual  699845.440000  144.0       NaN       NaN\n"
     ]
    },
    {
     "data": {
      "text/plain": [
       "{'boxes': [<matplotlib.lines.Line2D at 0x223ce902048>],\n",
       " 'caps': [<matplotlib.lines.Line2D at 0x223ce8a88d0>,\n",
       "  <matplotlib.lines.Line2D at 0x223ce8a8278>],\n",
       " 'fliers': [<matplotlib.lines.Line2D at 0x223cdac0e80>],\n",
       " 'means': [],\n",
       " 'medians': [<matplotlib.lines.Line2D at 0x223ce8b6d30>],\n",
       " 'whiskers': [<matplotlib.lines.Line2D at 0x223ce9029e8>,\n",
       "  <matplotlib.lines.Line2D at 0x223cf916e48>]}"
      ]
     },
     "execution_count": 16,
     "metadata": {},
     "output_type": "execute_result"
    },
    {
     "data": {
      "image/png": "[encoded data removed]",
      "text/plain": [
       "<matplotlib.figure.Figure at 0x223cfb29400>"
      ]
     },
     "metadata": {},
     "output_type": "display_data"
    }
   ],
   "source": [
    "# Replica of Crab-AOVResAnal.R\n",
    "# It is much easier to replicate R in python than to replica SAS\n",
    "#make the graphs pretty\n",
    "%matplotlib inline\n",
    "import pandas as pd\n",
    "from statsmodels.formula.api import ols\n",
    "from statsmodels.stats.anova import anova_lm\n",
    "from statsmodels.graphics.gofplots import qqplot\n",
    "from scipy.stats import shapiro\n",
    "from scipy.stats import levene\n",
    "import matplotlib.pyplot as plt\n",
    "from statistics import median\n",
    "\n",
    "site_1 = [0,0,22,3,17,0,0,7,11,11,73, 33, 0, 65, 13, 44, 20, 27, 48, 104, 233, 81, 22, 9, 2]\n",
    "site_2 = [0,0,56,0,8,0,3,1,16,55,142, 10, 2, 145, 6, 4, 5, 124, 24, 204, 415, 466, 6, 14, 12]\n",
    "site_3 = [0,0,4,13,5,1,1, 4, 4, 36, 407, 0, 0, 18, 4, 14, 0, 24, 52, 314, 245, 107, 5, 6, 2]\n",
    "site_4 = [0, 0, 0, 4, 2, 2, 5, 4, 2, 1, 0, 12, 1, 30, 0, 3, 28, 2, 21, 8, 82, 12, 10, 2, 0]\n",
    "site_5 = [0, 1, 1, 2, 2, 1, 2, 29, 2, 2, 0, 13, 0, 19, 1, 3, 26, 30, 5, 4, 94, 1, 9, 3, 0]\n",
    "site_6 = [0, 0, 0, 2, 3, 0, 0, 4, 0, 5, 4, 22, 0, 64, 4, 4, 43, 3, 16, 19, 95, 6, 22, 0, 0]\n",
    "y = site_1 + site_2 + site_3 + site_4 + site_5 + site_6\n",
    "S1 = [\"H1\"]*25\n",
    "S2 = [\"H2\"]*25\n",
    "S3 = [\"H3\"]*25\n",
    "S4 = [\"H4\"]*25\n",
    "S5 = [\"H5\"]*25\n",
    "S6 = [\"H6\"]*25\n",
    "hab = S1 + S2 + S3 + S4 + S5 + S6\n",
    "\n",
    "data = pd.DataFrame({'hab':hab,\n",
    "                    'y':y})\n",
    "\n",
    "formula = 'y ~ C(hab)'\n",
    "model = ols(formula, data).fit()\n",
    "aov_table = anova_l\n",
    "m(model, typ=2)\n",
    "\n",
    "print(aov_table)\n",
    "\n",
    "res = model.resid \n",
    "fig = qqplot(res, line='s')\n",
    "plt.show()\n",
    "\n",
    "#add additional R plots\n",
    "\n",
    "#Shapiro Test\n",
    "print('Shaprio Statistic %s , Shapiro p-value %s ' % shapiro(res))\n",
    "\n",
    "# B-F-L test of homogeneity of Variances\n",
    "z = []\n",
    "for site in [site_1, site_2, site_3, site_4, site_5, site_6]:\n",
    "    #print([site_i - median(site) for site_i in site])\n",
    "    z = z + [abs(site_i - median(site)) for site_i in site]\n",
    "\n",
    "#print(z)\n",
    "data = pd.DataFrame({'hab':hab,\n",
    "                    'z':z})\n",
    "\n",
    "formula = 'z ~ C(hab)'\n",
    "model = ols(formula, data).fit()\n",
    "aov_table = anova_lm(model, typ=2)\n",
    "\n",
    "print(aov_table)\n",
    "\n",
    "# lev1 = aov(z~site)\n",
    "\n",
    "# summary(lev1)\n",
    "plt.boxplot(res)"
   ]
  },
  {
   "cell_type": "code",
   "execution_count": null,
   "metadata": {
    "collapsed": true
   },
   "outputs": [],
   "source": [
    "#power transformation \n",
    "#transcrab - log transformation?"
   ]
  },
  {
   "cell_type": "code",
   "execution_count": 18,
   "metadata": {
    "collapsed": false
   },
   "outputs": [
    {
     "data": {
      "text/plain": [
       "(array([ 0.        ,  0.        ,  2.40936959,  1.23004054,  2.26516526,\n",
       "         0.        ,  0.        ,  1.74120414,  2.01253422,  2.01253422,\n",
       "         3.01739372,  2.62681701,  0.        ,  2.9632361 ,  2.11071137,\n",
       "         2.77379219,  2.35657641,  2.5206744 ,  2.8170263 ,  3.17640864,\n",
       "         3.50571014,  3.06506627,  2.40936959,  1.89292201,  0.99886998,\n",
       "         0.        ,  0.        ,  2.89222523,  0.        ,  1.82202885,\n",
       "         0.        ,  1.23004054,  0.6525113 ,  2.23063474,  2.88352733,\n",
       "         3.30886954,  1.95592929,  0.99886998,  3.31751726,  1.64752182,\n",
       "         1.40145633,  1.53659809,  3.25206239,  2.45702072,  3.45449174,\n",
       "         3.71506631,  3.7546451 ,  1.64752182,  2.15379627,  2.06384528,\n",
       "         0.        ,  0.        ,  1.40145633,  2.11071137,  1.53659809,\n",
       "         0.6525113 ,  0.6525113 ,  1.40145633,  1.40145633,  2.67192099,\n",
       "         3.70834113,  0.        ,  0.        ,  2.29750999,  1.40145633,\n",
       "         2.15379627,  0.        ,  2.45702072,  2.85629591,  3.61651692,\n",
       "         3.52476078,  3.18879016,  1.53659809,  1.64752182,  0.99886998,\n",
       "         0.        ,  0.        ,  0.        ,  1.40145633,  0.99886998,\n",
       "         0.99886998,  1.53659809,  1.40145633,  0.99886998,  0.6525113 ,\n",
       "         0.        ,  2.06384528,  0.6525113 ,  2.57677016,  0.        ,\n",
       "         1.23004054,  2.54012805,  0.99886998,  2.3836788 ,  1.82202885,\n",
       "         3.07063875,  2.06384528,  1.95592929,  0.99886998,  0.        ,\n",
       "         0.        ,  0.6525113 ,  0.6525113 ,  0.99886998,  0.99886998,\n",
       "         0.6525113 ,  0.99886998,  2.55880829,  0.99886998,  0.99886998,\n",
       "         0.        ,  2.11071137,  0.        ,  2.32791188,  0.6525113 ,\n",
       "         1.23004054,  2.50038593,  2.57677016,  1.53659809,  1.40145633,\n",
       "         3.13192033,  0.6525113 ,  1.89292201,  1.23004054,  0.        ,\n",
       "         0.        ,  0.        ,  0.        ,  0.99886998,  1.23004054,\n",
       "         0.        ,  0.        ,  1.40145633,  0.        ,  1.53659809,\n",
       "         1.40145633,  2.40936959,  0.        ,  2.95592617,  1.40145633,\n",
       "         1.40145633,  2.76227431,  1.23004054,  2.23063474,  2.32791188,\n",
       "         3.13661177,  1.64752182,  2.40936959,  0.        ,  0.        ]),\n",
       " -0.17610889758196252)"
      ]
     },
     "execution_count": 18,
     "metadata": {},
     "output_type": "execute_result"
    }
   ],
   "source": [
    "#boxcox_crabs_v2.R in python\n",
    "#this is incomplete\n",
    "site_1 = [0,0,22,3,17,0,0,7,11,11,73, 33, 0, 65, 13, 44, 20, 27, 48, 104, 233, 81, 22, 9, 2]\n",
    "site_2 = [0,0,56,0,8,0,3,1,16,55,142, 10, 2, 145, 6, 4, 5, 124, 24, 204, 415, 466, 6, 14, 12]\n",
    "site_3 = [0,0,4,13,5,1,1, 4, 4, 36, 407, 0, 0, 18, 4, 14, 0, 24, 52, 314, 245, 107, 5, 6, 2]\n",
    "site_4 = [0, 0, 0, 4, 2, 2, 5, 4, 2, 1, 0, 12, 1, 30, 0, 3, 28, 2, 21, 8, 82, 12, 10, 2, 0]\n",
    "site_5 = [0, 1, 1, 2, 2, 1, 2, 29, 2, 2, 0, 13, 0, 19, 1, 3, 26, 30, 5, 4, 94, 1, 9, 3, 0]\n",
    "site_6 = [0, 0, 0, 2, 3, 0, 0, 4, 0, 5, 4, 22, 0, 64, 4, 4, 43, 3, 16, 19, 95, 6, 22, 0, 0]\n",
    "y = site_1 + site_2 + site_3 + site_4 + site_5 + site_6\n",
    "for i, z in enumerate(y):\n",
    "    y[i] = z + 1\n",
    "S1 = [\"H1\"]*25\n",
    "S2 = [\"H2\"]*25\n",
    "S3 = [\"H3\"]*25\n",
    "S4 = [\"H4\"]*25\n",
    "S5 = [\"H5\"]*25\n",
    "S6 = [\"H6\"]*25\n",
    "hab = S1 + S2 + S3 + S4 + S5 + S6\n",
    "\n",
    "from scipy import stats\n",
    "stats.boxcox(y)"
   ]
  },
  {
   "cell_type": "code",
   "execution_count": 19,
   "metadata": {
    "collapsed": false
   },
   "outputs": [
    {
     "data": {
      "text/plain": [
       "KruskalResult(statistic=12.599578437214745, pvalue=0.027434507875088551)"
      ]
     },
     "execution_count": 19,
     "metadata": {},
     "output_type": "execute_result"
    }
   ],
   "source": [
    "#Kruskal Wallis Test - Replica of code on page 42\n",
    "# also could be expanded\n",
    "from scipy import stats\n",
    "\n",
    "site_1 = [0,0,22,3,17,0,0,7,11,11,73, 33, 0, 65, 13, 44, 20, 27, 48, 104, 233, 81, 22, 9, 2]\n",
    "site_2 = [0,0,56,0,8,0,3,1,16,55,142, 10, 2, 145, 6, 4, 5, 124, 24, 204, 415, 466, 6, 14, 12]\n",
    "site_3 = [0,0,4,13,5,1,1, 4, 4, 36, 407, 0, 0, 18, 4, 14, 0, 24, 52, 314, 245, 107, 5, 6, 2]\n",
    "site_4 = [0, 0, 0, 4, 2, 2, 5, 4, 2, 1, 0, 12, 1, 30, 0, 3, 28, 2, 21, 8, 82, 12, 10, 2, 0]\n",
    "site_5 = [0, 1, 1, 2, 2, 1, 2, 29, 2, 2, 0, 13, 0, 19, 1, 3, 26, 30, 5, 4, 94, 1, 9, 3, 0]\n",
    "site_6 = [0, 0, 0, 2, 3, 0, 0, 4, 0, 5, 4, 22, 0, 64, 4, 4, 43, 3, 16, 19, 95, 6, 22, 0, 0]\n",
    "\n",
    "stats.kruskal(site_1, site_2, site_3, site_4, site_5, site_6)"
   ]
  },
  {
   "cell_type": "code",
   "execution_count": null,
   "metadata": {
    "collapsed": true
   },
   "outputs": [],
   "source": [
    "#Additional Multiple Comparisions using Ranks"
   ]
  },
  {
   "cell_type": "code",
   "execution_count": null,
   "metadata": {
    "collapsed": true
   },
   "outputs": [],
   "source": [
    "#Generalized Linear Models"
   ]
  },
  {
   "cell_type": "code",
   "execution_count": 22,
   "metadata": {
    "collapsed": false
   },
   "outputs": [
    {
     "name": "stdout",
     "output_type": "stream",
     "text": [
      "0.36639371116\n"
     ]
    },
    {
     "data": {
      "image/png": "[encoded data removed]",
      "text/plain": [
       "<matplotlib.figure.Figure at 0x223cf9c0128>"
      ]
     },
     "metadata": {},
     "output_type": "display_data"
    }
   ],
   "source": [
    "#Tests for Correlation in the Residuals \n",
    "%matplotlib inline\n",
    "import matplotlib.pyplot as plt\n",
    "#Durbin Watson Statistic\n",
    "#Replica of crab_corr_plots.R\n",
    "\n",
    "#crab_corrplots.R\n",
    "# use y and site from previous data\n",
    "\n",
    "res = model.resid \n",
    "\n",
    "rsraw  = res[2:150]\n",
    "rsrawl1  = res[1:149]\n",
    "\n",
    "#skipping time series\n",
    "#plot(rstime1,type = \"b\",ylab = \"res_raw\",main = \"Resid_Raw vs Order\")\n",
    "plt.scatter(rsrawl1,rsraw)\n",
    "\n",
    "#Calculation of Durbin-Watson Statistics\n",
    "\n",
    "dif1  = [(residraw1-residraw2)**2 for residraw1, residraw2 in zip(rsraw,rsrawl1)]\n",
    "num1  = sum(dif1)\n",
    "rs12  = list(map(lambda x: x**2, res))\n",
    "den1  = sum(rs12)\n",
    "DW1  = num1/den1\n",
    "prd1  = [(residraw1*residraw2) for residraw1, residraw2 in zip(rsraw,rsrawl1)]\n",
    "prdsum1  = sum(prd1)\n",
    "rho1  = prdsum1/den1\n",
    "print(rho1)"
   ]
  },
  {
   "cell_type": "code",
   "execution_count": 38,
   "metadata": {
    "collapsed": false
   },
   "outputs": [
    {
     "name": "stdout",
     "output_type": "stream",
     "text": [
      "[[ 33.8 ]\n",
      " [ 68.72]\n",
      " [ 50.64]\n",
      " [  9.24]\n",
      " [ 10.  ]\n",
      " [ 12.64]]\n",
      "[[ 0.  0.  0.  0.  0.  0.  0.  0.  0.  0.  0.  0.  0.  0.  0.  0.  0.  0.\n",
      "   0.  0.  0.  0.  0.  0.  0.]\n",
      " [ 0.  0.  0.  0.  0.  0.  0.  0.  0.  0.  0.  0.  0.  0.  0.  0.  0.  0.\n",
      "   0.  0.  0.  0.  0.  0.  0.]\n",
      " [ 0.  0.  0.  0.  0.  0.  0.  0.  0.  0.  0.  0.  0.  0.  0.  0.  0.  0.\n",
      "   0.  0.  0.  0.  0.  0.  0.]\n",
      " [ 0.  0.  0.  0.  0.  0.  0.  0.  0.  0.  0.  0.  0.  0.  0.  0.  0.  0.\n",
      "   0.  0.  0.  0.  0.  0.  0.]\n",
      " [ 0.  0.  0.  0.  0.  0.  0.  0.  0.  0.  0.  0.  0.  0.  0.  0.  0.  0.\n",
      "   0.  0.  0.  0.  0.  0.  0.]\n",
      " [ 0.  0.  0.  0.  0.  0.  0.  0.  0.  0.  0.  0.  0.  0.  0.  0.  0.  0.\n",
      "   0.  0.  0.  0.  0.  0.  0.]]\n"
     ]
    },
    {
     "ename": "ValueError",
     "evalue": "setting an array element with a sequence.",
     "output_type": "error",
     "traceback": [
      "\u001b[0;31m---------------------------------------------------------------------------\u001b[0m",
      "\u001b[0;31mValueError\u001b[0m                                Traceback (most recent call last)",
      "\u001b[0;32m<ipython-input-38-82745f736c37>\u001b[0m in \u001b[0;36m<module>\u001b[0;34m()\u001b[0m\n\u001b[1;32m     27\u001b[0m \u001b[0mprint\u001b[0m\u001b[1;33m(\u001b[0m\u001b[0mresid\u001b[0m\u001b[1;33m)\u001b[0m\u001b[1;33m\u001b[0m\u001b[0m\n\u001b[1;32m     28\u001b[0m \u001b[1;32mfor\u001b[0m \u001b[0mi\u001b[0m \u001b[1;32min\u001b[0m \u001b[0mrange\u001b[0m\u001b[1;33m(\u001b[0m\u001b[1;36m6\u001b[0m\u001b[1;33m)\u001b[0m\u001b[1;33m:\u001b[0m\u001b[1;33m\u001b[0m\u001b[0m\n\u001b[0;32m---> 29\u001b[0;31m     \u001b[0mresid\u001b[0m\u001b[1;33m[\u001b[0m\u001b[0mi\u001b[0m\u001b[1;33m]\u001b[0m \u001b[1;33m=\u001b[0m \u001b[1;33m[\u001b[0m\u001b[0mdata6_i\u001b[0m \u001b[1;33m-\u001b[0m \u001b[0mmeans6\u001b[0m\u001b[1;33m[\u001b[0m\u001b[0mi\u001b[0m\u001b[1;33m]\u001b[0m \u001b[1;32mfor\u001b[0m \u001b[0mdata6_i\u001b[0m \u001b[1;32min\u001b[0m \u001b[0mdata6\u001b[0m\u001b[1;33m[\u001b[0m\u001b[0mi\u001b[0m\u001b[1;33m,\u001b[0m\u001b[1;33m:\u001b[0m\u001b[1;33m]\u001b[0m\u001b[1;33m]\u001b[0m\u001b[1;33m\u001b[0m\u001b[0m\n\u001b[0m\u001b[1;32m     30\u001b[0m \u001b[1;31m# for (i in 1:6) {\u001b[0m\u001b[1;33m\u001b[0m\u001b[1;33m\u001b[0m\u001b[0m\n\u001b[1;32m     31\u001b[0m \u001b[1;31m#   means6[i] = mean(data6[i,])\u001b[0m\u001b[1;33m\u001b[0m\u001b[1;33m\u001b[0m\u001b[0m\n",
      "\u001b[0;31mValueError\u001b[0m: setting an array element with a sequence."
     ]
    }
   ],
   "source": [
    "#runtestCrabdata.R\n",
    "import numpy as np\n",
    "\n",
    "# use results from above\n",
    "site_1 = [0,0,22,3,17,0,0,7,11,11,73, 33, 0, 65, 13, 44, 20, 27, 48, 104, 233, 81, 22, 9, 2]\n",
    "site_2 = [0,0,56,0,8,0,3,1,16,55,142, 10, 2, 145, 6, 4, 5, 124, 24, 204, 415, 466, 6, 14, 12]\n",
    "site_3 = [0,0,4,13,5,1,1, 4, 4, 36, 407, 0, 0, 18, 4, 14, 0, 24, 52, 314, 245, 107, 5, 6, 2]\n",
    "site_4 = [0, 0, 0, 4, 2, 2, 5, 4, 2, 1, 0, 12, 1, 30, 0, 3, 28, 2, 21, 8, 82, 12, 10, 2, 0]\n",
    "site_5 = [0, 1, 1, 2, 2, 1, 2, 29, 2, 2, 0, 13, 0, 19, 1, 3, 26, 30, 5, 4, 94, 1, 9, 3, 0]\n",
    "site_6 = [0, 0, 0, 2, 3, 0, 0, 4, 0, 5, 4, 22, 0, 64, 4, 4, 43, 3, 16, 19, 95, 6, 22, 0, 0]\n",
    "y = site_1 + site_2 + site_3 + site_4 + site_5 + site_6\n",
    "\n",
    "data6 = np.matrix([site_1,site_2,site_3,site_4,site_5,site_6])\n",
    "# data6 = matrix(site,nrow=6,byrow=T)\n",
    "# resid = matrix(0,6,25)\n",
    "# residl1 = matrix(0,6,24)\n",
    "# resid1 = matrix(0,6,24)\n",
    "# dif1 = matrix(0,6,24)\n",
    "# prd1 = matrix(0,6,24)\n",
    "# DW     = c(0,0,0,0,0,0)\n",
    "# rho    = c(0,0,0,0,0,0)\n",
    "# means6 = c(0,0,0,0,0,0)\n",
    "\n",
    "means6 = np.mean(data6,axis=1)\n",
    "print(means6)\n",
    "resid = np.zeros((6,25))\n",
    "print(resid)\n",
    "for i in range(6):\n",
    "    resid[i] = [data6_i - means6[i] for data6_i in data6[i,:]]\n",
    "# for (i in 1:6) {\n",
    "#   means6[i] = mean(data6[i,])\n",
    "#    resid[i,]   = data6[i,]-means6[i]\n",
    "#    resid1[i,]  = resid[i,2:25]\n",
    "#    residl1[i,] = resid[i,1:24]\n",
    "\n",
    "#   for (j in 1:24){\n",
    "    \n",
    "#     dif1[i,j] = (resid1[i,j]-residl1[i,j])^2\n",
    "#     prd1[i,j] = resid1[i,j]*residl1[i,j]\n",
    "\n",
    "#   }\n",
    "#    rho[i] = sum(prd1[i,])/sum((resid[i,])^2)\n",
    "\n",
    "#    DW[i] = sum(dif1[i,])/sum((resid[i,])^2)\n",
    "\n",
    "#   } \n",
    "\n",
    "#  rstime1  = ts(resid[1,],start = 1,frequency = 1)\n",
    "# plot(rstime1,type = \"b\",ylab = \"res_raw\",main = \"Resid_Raw vs Order Habitat=1\")\n",
    "#  abline(h = 0,lty = 2)\n",
    "#  rstime2  = ts(resid[2,],start = 1,frequency = 1)\n",
    "# plot(rstime2,type = \"b\",ylab = \"res_raw\",main = \"Resid_Raw vs Order Habitat=2\")\n",
    "#  abline(h = 0,lty = 2)\n",
    "#  rstime3  = ts(resid[3,],start = 1,frequency = 1)\n",
    "# plot(rstime3,type = \"b\",ylab = \"res_raw\",main = \"Resid_Raw vs Order Habitat=3\")\n",
    "#  abline(h = 0,lty = 2)\n",
    "#  rstime4  = ts(resid[4,],start = 1,frequency = 1)\n",
    "# plot(rstime4,type = \"b\",ylab = \"res_raw\",main = \"Resid_Raw vs Order Habitat=4\")\n",
    "#  abline(h = 0,lty = 2)\n",
    "#  rstime5  = ts(resid[5,],start = 1,frequency = 1)\n",
    "# plot(rstime5,type = \"b\",ylab = \"res_raw\",main = \"Resid_Raw vs Order Habitat=5\")\n",
    "#  abline(h = 0,lty = 2)\n",
    "#  rstime6  = ts(resid[6,],start = 1,frequency = 1)\n",
    "# plot(rstime6,type = \"b\",ylab = \"res_raw\",main = \"Resid_Raw vs Order Habitat=6\")\n",
    "#  abline(h = 0,lty = 2)\n",
    "\n",
    "\n",
    "\n",
    "\n",
    "# plot(residl1[1,],resid1[1,],main = \"Resid_Raw Lag Plot - Habitat 1\")\n",
    "# plot(residl1[2,],resid1[2,],main = \"Resid_Raw Lag Plot - Habitat 2\")\n",
    "# plot(residl1[3,],resid1[3,],main = \"Resid_Raw Lag Plot - Habitat 3\")\n",
    "# plot(residl1[4,],resid1[4,],main = \"Resid_Raw Lag Plot - Habitat 4\")\n",
    "# plot(residl1[5,],resid1[5,],main = \"Resid_Raw Lag Plot - Habitat 5\")\n",
    "# plot(residl1[6,],resid1[6,],main = \"Resid_Raw Lag Plot - Habitat 6\")\n",
    "\n",
    "\n",
    "\n",
    "\n",
    "# n.neg = rep(0,6)\n",
    "# n.pos = rep(0,6)\n",
    "# for (i in 1:6) {\n",
    "#   n.neg[i] = length(resid[i,][resid[i,]<0])\n",
    "#   n.pos[i] = length(resid[i,][resid[i,]>0])\n",
    "#   }\n",
    " \n",
    "# numb.runs = rep(1,6)\n",
    "# for (i in 1:6) {\n",
    "#   for (j in 2:25) {\n",
    "#     if (sign(resid[i,j]) != sign(resid[i,j-1])) {numb.runs[i] <- numb.runs[i] + 1}\n",
    "#     }\n",
    "#   }\n",
    "  \n",
    "# residruns.result <- as.data.frame(cbind(numb.runs, n.pos, n.neg))\n",
    "# names(residruns.result) <- c(\"No. runs\", \"N+\", \"N-\")"
   ]
  },
  {
   "cell_type": "code",
   "execution_count": 40,
   "metadata": {
    "collapsed": false
   },
   "outputs": [
    {
     "data": {
      "text/plain": [
       "matrix([[  0,   0,  22,   3,  17,   0,   0,   7,  11,  11,  73,  33,   0,\n",
       "          65,  13,  44,  20,  27,  48, 104, 233,  81,  22,   9,   2]])"
      ]
     },
     "execution_count": 40,
     "metadata": {},
     "output_type": "execute_result"
    }
   ],
   "source": [
    "data6[i,:]"
   ]
  },
  {
   "cell_type": "code",
   "execution_count": null,
   "metadata": {
    "collapsed": true
   },
   "outputs": [],
   "source": []
  }
 ],
 "metadata": {
  "kernelspec": {
   "display_name": "Python 3",
   "language": "python",
   "name": "python3"
  },
  "language_info": {
   "codemirror_mode": {
    "name": "ipython",
    "version": 3
   },
   "file_extension": ".py",
   "mimetype": "text/x-python",
   "name": "python",
   "nbconvert_exporter": "python",
   "pygments_lexer": "ipython3",
   "version": "3.6.0"
  }
 },
 "nbformat": 4,
 "nbformat_minor": 2
}
