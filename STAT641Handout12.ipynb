{
 "cells": [
  {
   "cell_type": "markdown",
   "metadata": {},
   "source": [
    "# Handout 12"
   ]
  },
  {
   "cell_type": "code",
   "execution_count": null,
   "metadata": {
    "collapsed": true
   },
   "outputs": [],
   "source": [
    "#Power Function Graphs?"
   ]
  },
  {
   "cell_type": "code",
   "execution_count": null,
   "metadata": {
    "collapsed": true
   },
   "outputs": [],
   "source": [
    "#Normal Distribution Hypothesis testing"
   ]
  },
  {
   "cell_type": "code",
   "execution_count": null,
   "metadata": {
    "collapsed": true
   },
   "outputs": [],
   "source": [
    "#Sample Size Determination"
   ]
  },
  {
   "cell_type": "code",
   "execution_count": null,
   "metadata": {
    "collapsed": true
   },
   "outputs": [],
   "source": [
    "#Normal Population with sigma unknown"
   ]
  },
  {
   "cell_type": "code",
   "execution_count": 9,
   "metadata": {
    "collapsed": false
   },
   "outputs": [
    {
     "name": "stdout",
     "output_type": "stream",
     "text": [
      "60\n"
     ]
    }
   ],
   "source": [
    "# Plot on page 24\n",
    "%matplotlib inline\n",
    "from math import sqrt\n",
    "from scipy.stats import t\n",
    "#non-central t is a different module in python \n",
    "from scipy.stats import nct\n",
    "import matplotlib.pyplot as plt\n",
    "import numpy as np\n",
    "n = 10\n",
    "df = n-1\n",
    "muo = 84\n",
    "sigma = 1.4\n",
    "mu = np.arange(83, 86, 0.05)\n",
    "delta = [sqrt(n)*(m-muo)/sigma for m in mu]\n",
    "power = [1-nct.cdf(t.ppf(.95,df),df,delta) for d in delta]\n",
    "print(len(power))\n",
    "#par(lab=c(15,20,4))\n",
    "#figure out how to plot it\n",
    "#plt(mu,power,type=\"l\",ylim=c(0,1),xlab=expression(mu))"
   ]
  },
  {
   "cell_type": "code",
   "execution_count": null,
   "metadata": {
    "collapsed": true
   },
   "outputs": [],
   "source": [
    "#sample size determination"
   ]
  },
  {
   "cell_type": "code",
   "execution_count": null,
   "metadata": {
    "collapsed": true
   },
   "outputs": [],
   "source": [
    "#effect of varying distributions on the t-test"
   ]
  },
  {
   "cell_type": "code",
   "execution_count": null,
   "metadata": {
    "collapsed": true
   },
   "outputs": [],
   "source": [
    "#effect of correlated data"
   ]
  },
  {
   "cell_type": "code",
   "execution_count": null,
   "metadata": {
    "collapsed": true
   },
   "outputs": [],
   "source": [
    "#the sign test"
   ]
  },
  {
   "cell_type": "code",
   "execution_count": null,
   "metadata": {
    "collapsed": true
   },
   "outputs": [],
   "source": [
    "#Wilcoxon Signed-Rank Test"
   ]
  },
  {
   "cell_type": "code",
   "execution_count": null,
   "metadata": {
    "collapsed": true
   },
   "outputs": [],
   "source": [
    "#Comparison of t-Test, Sign Test, and Wilcoxon Signed Rank Test"
   ]
  },
  {
   "cell_type": "code",
   "execution_count": null,
   "metadata": {
    "collapsed": true
   },
   "outputs": [],
   "source": [
    "#Tests about Normal Population Standard Deviation"
   ]
  },
  {
   "cell_type": "code",
   "execution_count": null,
   "metadata": {
    "collapsed": true
   },
   "outputs": [],
   "source": [
    "#Simulation Study for Impact of Non-normal Distributions"
   ]
  },
  {
   "cell_type": "code",
   "execution_count": null,
   "metadata": {
    "collapsed": true
   },
   "outputs": [],
   "source": [
    "#bootTestofSigma.R as bootTestofSigma.py\n",
    "x = c(0.0,0.0,0.0000068,0.0000135,0.0000176,0.0000209,0.0003327,0.007412,\n",
    "0.0147,0.03630,0.08643,0.08937,0.4875,0.8276,1.406,2.685,3.294,3.391,4.989,\n",
    "9.712,12.01,37.29,169.7,247.1,598.1)\n",
    "n = length(x)\n",
    "x = sort(x)\n",
    "i = seq(1:n)\n",
    "u = (i-.5)/n\n",
    "z = qnorm(u)\n",
    "plot(z,x,datax=F,plot=T,xlab=\"Normal Quantile\",ylab=\"Empirical Quantile\",\n",
    "lab=c(7,8,7),\n",
    "main=\"Normal Reference Distribution Plot\",\n",
    "cex=.95)\n",
    "abline(lm(x~z))\n",
    "shapiro.test(x)\n",
    "text(-1.5,540,\"SW=.393\")\n",
    "text(-1.5,500,\"p-value=.0000000038\")\n",
    "m = mean(x)\n",
    "SD = sd(x)\n",
    "sigma0 = 100\n",
    "TSD = (n-1)*SD^2/sigma0^2\n",
    "B = 9999\n",
    "PV = numeric(B)\n",
    "PV = rep(0,B)\n",
    "TS = numeric(B)\n",
    "TS = rep(0,B)\n",
    "S = numeric(B)\n",
    "S = rep(0,B)\n",
    "Sy = numeric(B)\n",
    "Sy = rep(0,B)\n",
    "{\n",
    "for (i in 1:B)\n",
    "S[i] = sd(sample(x,replace=T))\n",
    "}\n",
    "PV = (n-1)*S^2/SD^2\n",
    "PV = sort(PV)\n",
    "#standardize the data so that the null hypothesis is true\n",
    "y = x*sigma0/sd(x)\n",
    "{\n",
    "for (i in 1:B)\n",
    "Sy[i] = sd(sample(y,n,replace=T))\n",
    "}\n",
    "TS = (n-1)*Sy^2/sigma0^2\n",
    "SIMpvalue = sum(TS>TSD)/B\n",
    "NORMpvalue = 1-pchisq(TSD,n-1)\n",
    "LPV = PV[250]\n",
    "UPV = PV[9750]\n",
    "LPV2 = PV[9500]\n",
    "SIMci = c(sqrt((n-1)*SD^2/UPV), sqrt((n-1)*SD^2/LPV))\n",
    "SIMLcb = sqrt((n-1)*SD^2/LPV2)\n",
    "NORMLcb = sqrt((n-1)*SD^2/qchisq(.95,n-1))"
   ]
  },
  {
   "cell_type": "code",
   "execution_count": null,
   "metadata": {
    "collapsed": true
   },
   "outputs": [],
   "source": [
    "#Tests about population proportion"
   ]
  },
  {
   "cell_type": "code",
   "execution_count": null,
   "metadata": {
    "collapsed": true
   },
   "outputs": [],
   "source": [
    "#Sample size determination"
   ]
  },
  {
   "cell_type": "code",
   "execution_count": null,
   "metadata": {
    "collapsed": true
   },
   "outputs": [],
   "source": [
    "#Bootstrap test of hypothesis"
   ]
  },
  {
   "cell_type": "code",
   "execution_count": null,
   "metadata": {
    "collapsed": true
   },
   "outputs": [],
   "source": [
    "#autocorrelation test"
   ]
  }
 ],
 "metadata": {
  "kernelspec": {
   "display_name": "Python 3",
   "language": "python",
   "name": "python3"
  },
  "language_info": {
   "codemirror_mode": {
    "name": "ipython",
    "version": 3
   },
   "file_extension": ".py",
   "mimetype": "text/x-python",
   "name": "python",
   "nbconvert_exporter": "python",
   "pygments_lexer": "ipython3",
   "version": "3.6.0"
  }
 },
 "nbformat": 4,
 "nbformat_minor": 2
}
