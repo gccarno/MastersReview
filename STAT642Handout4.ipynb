{
 "cells": [
  {
   "cell_type": "markdown",
   "metadata": {},
   "source": [
    "# Handout 4"
   ]
  },
  {
   "cell_type": "code",
   "execution_count": 6,
   "metadata": {
    "collapsed": false
   },
   "outputs": [
    {
     "name": "stdout",
     "output_type": "stream",
     "text": [
      "24 24\n",
      "          sum_sq    df         F    PR(>F)\n",
      "C(BRAND)   246.0   5.0  5.466667  0.003121\n",
      "Residual   162.0  18.0       NaN       NaN\n",
      "                            OLS Regression Results                            \n",
      "==============================================================================\n",
      "Dep. Variable:                      y   R-squared:                       0.603\n",
      "Model:                            OLS   Adj. R-squared:                  0.493\n",
      "Method:                 Least Squares   F-statistic:                     5.467\n",
      "Date:                Sun, 01 Jul 2018   Prob (F-statistic):            0.00312\n",
      "Time:                        13:43:28   Log-Likelihood:                -56.969\n",
      "No. Observations:                  24   AIC:                             125.9\n",
      "Df Residuals:                      18   BIC:                             133.0\n",
      "Df Model:                           5                                         \n",
      "Covariance Type:            nonrobust                                         \n",
      "==================================================================================\n",
      "                     coef    std err          t      P>|t|      [95.0% Conf. Int.]\n",
      "----------------------------------------------------------------------------------\n",
      "Intercept         17.0000      1.500     11.333      0.000        13.849    20.151\n",
      "C(BRAND)[T.B2]     6.0000      2.121      2.828      0.011         1.543    10.457\n",
      "C(BRAND)[T.R1]     9.0000      2.121      4.243      0.000         4.543    13.457\n",
      "C(BRAND)[T.R2]     1.0000      2.121      0.471      0.643        -3.457     5.457\n",
      "C(BRAND)[T.S1]     4.0000      2.121      1.886      0.076        -0.457     8.457\n",
      "C(BRAND)[T.S2]     7.0000      2.121      3.300      0.004         2.543    11.457\n",
      "==============================================================================\n",
      "Omnibus:                       11.980   Durbin-Watson:                   3.142\n",
      "Prob(Omnibus):                  0.003   Jarque-Bera (JB):                2.343\n",
      "Skew:                           0.071   Prob(JB):                        0.310\n",
      "Kurtosis:                       1.476   Cond. No.                         6.85\n",
      "==============================================================================\n",
      "\n",
      "Warnings:\n",
      "[1] Standard Errors assume that the covariance matrix of the errors is correctly specified.\n"
     ]
    }
   ],
   "source": [
    "# Replica of Brand_AOV.R\n",
    "#numpy and pandas are dependents\n",
    "%matplotlib inline\n",
    "import pandas as pd\n",
    "from statsmodels.formula.api import ols\n",
    "from statsmodels.stats.anova import anova_lm\n",
    "\n",
    "#package imports\n",
    "\n",
    "y = [22, 20, 25, 17,26, 22, 27, 21,16, 20, 14, 18,\n",
    "20, 25, 26, 21,28, 29, 23, 24,22, 15, 19, 16]\n",
    "\n",
    "BRAND = [\"S1\"]*4 + [\"S2\"]*4 + [\"B1\"]*4 + [\"B2\"]*4 + [\"R1\"]*4 + [\"R2\"]*4\n",
    "print(len(y),len(BRAND))\n",
    "data = pd.DataFrame({'BRAND':BRAND,\n",
    "                    'y':y})\n",
    "\n",
    "formula = 'y ~ C(BRAND)'\n",
    "model = ols(formula, data).fit()\n",
    "aov_table = anova_lm(model, typ=2)\n",
    "\n",
    "#skipping may need to code lsmeans myself\n",
    "\n",
    "#skipping may need to code contrasts myself\n",
    "\n",
    "print(aov_table)\n",
    "print(model.summary())"
   ]
  },
  {
   "cell_type": "code",
   "execution_count": null,
   "metadata": {
    "collapsed": true
   },
   "outputs": [],
   "source": [
    "#Unbalanced? - brand_unbal.sas"
   ]
  },
  {
   "cell_type": "code",
   "execution_count": null,
   "metadata": {
    "collapsed": true
   },
   "outputs": [],
   "source": [
    "#Bonferroni Correction"
   ]
  },
  {
   "cell_type": "code",
   "execution_count": null,
   "metadata": {
    "collapsed": true
   },
   "outputs": [],
   "source": [
    "#Scheffe Procedure"
   ]
  },
  {
   "cell_type": "code",
   "execution_count": null,
   "metadata": {
    "collapsed": true
   },
   "outputs": [],
   "source": [
    "#Tukey HSD"
   ]
  },
  {
   "cell_type": "code",
   "execution_count": null,
   "metadata": {
    "collapsed": true
   },
   "outputs": [],
   "source": [
    "#Compare Tukey to SNK and LSD"
   ]
  },
  {
   "cell_type": "code",
   "execution_count": null,
   "metadata": {
    "collapsed": true
   },
   "outputs": [],
   "source": [
    "#Dunnett's Procedure\n",
    "\n",
    "#Brand-Dunnett.R\n",
    "y = c(22, 20, 25, 17,26, 22, 27, 21,16, 20, 14, 18,\n",
    "20, 25, 26, 21,28, 29, 23, 24,22, 15, 19, 16 )\n",
    "#Need to designate the Control Treatment first alphabetically.\n",
    "#Change S1 to A1\n",
    "A1 = rep(\"S1\",4)\n",
    "S2 = rep(\"S2\",4)\n",
    "B1 = rep(\"B1\",4)\n",
    "B2 = rep(\"B2\",4)\n",
    "R1 = rep(\"R1\",4)\n",
    "R2 = rep(\"R2\",4)\n",
    "TYPE = c(A1,S2,B1,B2,R1,R2)\n",
    "BRAND = as.factor(TYPE)\n",
    "Brandmodel = lm(y ~ BRAND)\n",
    "summary(Brandmodel)\n",
    "AOV = aov(Brandmodel)\n",
    "Brand_Dunnett = glht(AOV, linfct = mcp(BRAND=\"Dunnett\"),alternative=\"less\")\n",
    "summary(Brand_Dunnett)"
   ]
  },
  {
   "cell_type": "code",
   "execution_count": null,
   "metadata": {
    "collapsed": true
   },
   "outputs": [],
   "source": [
    "#Hsu's Procedure"
   ]
  },
  {
   "cell_type": "code",
   "execution_count": null,
   "metadata": {
    "collapsed": true
   },
   "outputs": [],
   "source": [
    "#Benjmini-Hochberg FDR Testing Procedure"
   ]
  },
  {
   "cell_type": "code",
   "execution_count": null,
   "metadata": {
    "collapsed": true
   },
   "outputs": [],
   "source": [
    "#orthopoly.sas"
   ]
  },
  {
   "cell_type": "code",
   "execution_count": null,
   "metadata": {
    "collapsed": true
   },
   "outputs": [],
   "source": [
    "#Simultaneous test for all 4 contrasts in R - page 57\n",
    "H = matrix(c( -2,-1,0,1,2,2,-1,-2,-1,2,-1,2,0,-2,1,1,-4,6,-4,1),nrow=4, byrow=T)\n",
    "muhat = matrix(c(5,26,42,52,81),nrow=5)\n",
    "h = matrix(c(0,0,0,0),nrow=4)\n",
    "x=rep(4,5)\n",
    "D = diag(x,5,5)\n",
    "A = H%*%muhat - h\n",
    "Dinv = solve(D)\n",
    "Cinv = solve(H%*%Dinv%*%t(H))\n",
    "SSH = t(A)%*%Cinv%*% A\n",
    "SSH"
   ]
  },
  {
   "cell_type": "code",
   "execution_count": null,
   "metadata": {
    "collapsed": true
   },
   "outputs": [],
   "source": [
    "#orthoreg.sas?"
   ]
  },
  {
   "cell_type": "code",
   "execution_count": null,
   "metadata": {
    "collapsed": true
   },
   "outputs": [],
   "source": [
    "#coefficients for unequally spaced intervals\n",
    "con = contr.poly(5,scores=c(0,5,15,30,50))\n",
    "con_std = matrix(0,5,4)\n",
    "m = c(rep(0,4))\n",
    "for (i in 1:4) {\n",
    "m[i] =min(abs(con[,i]))\n",
    "con_std[,i] = con[,i]/m[i]\n",
    "}"
   ]
  }
 ],
 "metadata": {
  "kernelspec": {
   "display_name": "Python 3",
   "language": "python",
   "name": "python3"
  },
  "language_info": {
   "codemirror_mode": {
    "name": "ipython",
    "version": 3
   },
   "file_extension": ".py",
   "mimetype": "text/x-python",
   "name": "python",
   "nbconvert_exporter": "python",
   "pygments_lexer": "ipython3",
   "version": "3.6.0"
  }
 },
 "nbformat": 4,
 "nbformat_minor": 2
}
