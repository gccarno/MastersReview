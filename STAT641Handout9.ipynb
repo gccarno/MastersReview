{
 "cells": [
  {
   "cell_type": "markdown",
   "metadata": {},
   "source": [
    "# Handout 9"
   ]
  },
  {
   "cell_type": "code",
   "execution_count": null,
   "metadata": {
    "collapsed": true
   },
   "outputs": [],
   "source": [
    "#Chi-square goodness of Fit test"
   ]
  },
  {
   "cell_type": "code",
   "execution_count": null,
   "metadata": {
    "collapsed": true
   },
   "outputs": [],
   "source": [
    "#Kolmogorov-Smirnov (K-S) Measure\n",
    "#evaluating Fit to the chicken Data"
   ]
  },
  {
   "cell_type": "code",
   "execution_count": null,
   "metadata": {
    "collapsed": true
   },
   "outputs": [],
   "source": [
    "#Cramer-von Mises (CvM) Measure"
   ]
  },
  {
   "cell_type": "code",
   "execution_count": null,
   "metadata": {
    "collapsed": true
   },
   "outputs": [],
   "source": [
    "#Anderson Darling (AD) Measure"
   ]
  },
  {
   "cell_type": "code",
   "execution_count": 33,
   "metadata": {
    "collapsed": false
   },
   "outputs": [
    {
     "name": "stdout",
     "output_type": "stream",
     "text": [
      "[1, 2, 3, 4, 5, 6, 7, 8, 9, 10, 11, 12, 13, 14, 15, 16, 17, 18, 19, 20]\n",
      "[ 0.10435096  0.13880271  0.18028337  0.30352612  0.34457826  0.38754848\n",
      "  0.38754848  0.45450565  0.5227843   0.61245152  0.65542174  0.71614542\n",
      "  0.77121591  0.80431703  0.80431703  0.84815945  0.84815945  0.88493033\n",
      "  0.90562496  0.97724987]\n",
      "KS Statistic: 0.790458102326\n",
      "CvM: 0.177404095374\n",
      "[-2.2599954903865234, -5.924105137497554, -8.566127008935675, -8.346013174011713, -9.58890644270619, -10.427057580540755, -12.322886231548164, -11.828173903311756, -11.025967533957465, -9.315424357672006, -8.872003774783298, -7.679056837472317, -6.494672562769235, -5.879567804924574, -6.315091346030098, -5.105285714041653, -5.434658985915307, -4.278622617059621, -3.6678102278258913, -0.8975034638295761]\n",
      "AD: 1.0168494330351905\n"
     ]
    }
   ],
   "source": [
    "#replicate gofnormex.R in python \n",
    "from scipy.stats import norm\n",
    "from math import sqrt, log\n",
    "L = sorted([156,162,168,182,186,190,190,196,202,210,214,220,226,230,230,236,236,242,246,270])\n",
    "n, m, a = 20, 200, 35\n",
    "z = norm.cdf(L,m,a)\n",
    "i = list(range(1, n + 1))\n",
    "print(i)\n",
    "print(z)\n",
    "# K-S Computations\n",
    "\n",
    "d1 = [i/n - z for i, z in zip(i,z)]\n",
    "\n",
    "dp = max(d1)\n",
    "\n",
    "d2 = [z - (i -1)/n for i, z in zip(i,z)]\n",
    "dm = max(d2)\n",
    "\n",
    "ks = max(dp,dm)\n",
    "\n",
    "KS = ks*(sqrt(n) + .12+.11/sqrt(n))\n",
    "\n",
    "#look into formatting values\n",
    "print(\"KS Statistic: \" + str(KS))\n",
    "\n",
    "#reject normality at 0.05 level if KS > 1.358\n",
    "\n",
    "# Cramer-von Mises\n",
    "\n",
    "wi = [(z-(2*i-1)/(2*n))**2 for i, z in zip(i,z)]\n",
    "\n",
    "s = sum(wi)\n",
    "\n",
    "cvm = s + 1/(12*n)\n",
    "\n",
    "CvM = (cvm - .4/n + .6/n**2)*(1+1/n)\n",
    "\n",
    "print(\"CvM: \" + str(CvM))\n",
    "\n",
    "#Anderson-Darling Computations\n",
    "\n",
    "ali = [(2*i-1)*log(z) for i, z in zip(i,z)]\n",
    "print(ali)\n",
    "a2i = [(2*n+1-2*i)*log(1-z) for i, z in zip(i,z)]\n",
    "#print(a2i)\n",
    "s1 = sum(ali)\n",
    "#print(s1)\n",
    "s2 = sum(a2i)\n",
    "#print(s2)\n",
    "AD = -n-(1/n)*(s1+s2)\n",
    "#AD = -n-(1/n)*(-144-276)\n",
    "print(\"AD: \" + str(AD))"
   ]
  },
  {
   "cell_type": "code",
   "execution_count": null,
   "metadata": {
    "collapsed": true
   },
   "outputs": [],
   "source": [
    "#functions to the same thing as above?"
   ]
  },
  {
   "cell_type": "code",
   "execution_count": null,
   "metadata": {
    "collapsed": true
   },
   "outputs": [],
   "source": [
    "#Shapiro Wilk Test"
   ]
  },
  {
   "cell_type": "code",
   "execution_count": 35,
   "metadata": {
    "collapsed": true
   },
   "outputs": [],
   "source": [
    "# Correlation Test\n",
    "from scipy.stats import norm\n",
    "L = sorted([156,162,168,182,186,190,190,196,202,210,214,220,226,230,230,236,236,242,246,270])\n",
    "n = len(L)\n",
    "i = list(range(1,n+1))\n",
    "u = [(i-.375)/(n+25) for i in range(1,n+1)]\n",
    "q = norm.ppf(u)\n",
    "#correlation test - turn formula on pg 28 into a function?"
   ]
  },
  {
   "cell_type": "code",
   "execution_count": 38,
   "metadata": {
    "collapsed": false
   },
   "outputs": [
    {
     "name": "stdout",
     "output_type": "stream",
     "text": [
      "1.1219012864710647\n",
      "0.22115275965879722\n",
      "1.2098023121035026\n"
     ]
    }
   ],
   "source": [
    "#Modified for the Exponential Distribution\n",
    "from math import log, exp\n",
    "w = sorted([12,21,26,27,29,29,48,57,59,70,74,153,326,386,502])\n",
    "n = len(w)\n",
    "lam = sum(w)/n\n",
    "\n",
    "z = [1-exp(-x/lam) for x in w] #computes F0(X(i))\n",
    "i = list(range(1,n + 1))\n",
    "# K-S Computations:\n",
    "d1 = [j/n - a for j, a in zip(i,z)]\n",
    "dp = max(d1)\n",
    "d2 = [a - (j - 1)/n for  j, a in zip(i,z)]\n",
    "dm = max(d2)\n",
    "KS = max(dp,dm)\n",
    "KSM = (KS-.2/n)*(sqrt(n)+.26+.5/sqrt(n))\n",
    "print(KSM)\n",
    "\n",
    "# Cramer-von Mises Computations:\n",
    "wi = [(a-(2*j-1)/(2*n))**2 for  j, a in zip(i,z)]\n",
    "s = sum(wi)\n",
    "cvm = s + 1/(12*n)\n",
    "cvmM = cvm*(1+.16/n)\n",
    "print(cvmM)\n",
    "\n",
    "# Anderson-Darling Computations:\n",
    "a1i = [(2*j-1)*log(a) for  j, a in zip(i,z)]\n",
    "a2i = [(2*n+1-2*j)*log(1-a) for  j, a in zip(i,z)]\n",
    "s1 = sum(a1i)\n",
    "s2 = sum(a2i)\n",
    "AD = -n-(1/n)*(s1+s2)\n",
    "ADM = AD*(1+.6/n)\n",
    "print(ADM)"
   ]
  },
  {
   "cell_type": "code",
   "execution_count": null,
   "metadata": {
    "collapsed": true
   },
   "outputs": [],
   "source": [
    "#Python Code to find MLE:\n",
    "library(MASS)\n",
    "x <- c(\n",
    "17.88 , 28.92 , 33.00 , 41.52 , 42.12 , 45.60 , 48.40, 51.84 ,\n",
    "51.96 , 54.12 , 55.56 , 67.80 , 68.64 , 68.64 , 68.88 , 84.12 ,\n",
    "93.12 , 98.64 , 105.12 , 105.84 , 127.92 , 128.04 , 173.40)\n",
    "fitdistr(x,\"weibull\")"
   ]
  },
  {
   "cell_type": "code",
   "execution_count": null,
   "metadata": {
    "collapsed": true
   },
   "outputs": [],
   "source": [
    "# convert gofweibmle.r to gofweibmle.py\n",
    "# The following program computes the Anderson-Darling Statistics\n",
    "# for testing goodness of the fit of a\n",
    "# Weibull Distribution\n",
    "# with unspecified parameters (need to supply MLE's).\n",
    "# The statistics include the modification needed to use the Tables included\n",
    "# in the GOF handout.\n",
    "# This example is based on a random sample of n=23 observations:\n",
    "x = c(17.88, 28.92, 33.00, 41.52, 42.12, 45.60, 48.40, 51.84,\n",
    "51.96, 54.12, 55.56, 67.80, 68.64, 68.64, 68.88, 84.12,\n",
    "93.12, 98.64, 105.12, 105.84, 127.92, 128.04, 173.40)\n",
    "n = length(x)\n",
    "i = seq(1,n,1)\n",
    "y = -log(x)\n",
    "y = sort(y)\n",
    "# Anderson-Darling: For Weibull Model\n",
    "library(MASS)\n",
    "mle <- fitdistr(x,\"weibull\")\n",
    "shape = mle$estimate[1]\n",
    "scale = mle$estimate[2]\n",
    "a = -log(scale)\n",
    "b = 1/shape\n",
    "z = exp(-exp(-(y-a)/b))\n",
    "A1i = (2*i-1)*log(z)\n",
    "A2i = (2*n+1-2*i)*log(1-z)\n",
    "s1 = sum(A1i)\n",
    "s2 = sum(A2i)\n",
    "AD = -n-(1/n)*(s1+s2)\n",
    "ADM = AD*(1+.2/sqrt(n))\n",
    "AD\n",
    "ADM\n",
    "n\n",
    "n = length(y)\n",
    "weib= -y\n",
    "weib= sort(weib)\n",
    "i= 1:n\n",
    "ui= (i-.5)/n\n",
    "QW= log(-log(1-ui))\n",
    "plot(QW,weib,abline(lm(weib~QW)),\n",
    "main=\"Weibull Reference Plot\",cex=.75,lab=c(7,11,7),\n",
    "xlab=\"Q=ln(-ln(1-ui))\",\n",
    "ylab=\"y=ln(W(i))\")\n",
    "legend(-3.5,5.0,\"y=4.388+.4207Q\")\n",
    "legend(-3.5,4.7,\"AD=.3721, p-value>.25\")"
   ]
  },
  {
   "cell_type": "code",
   "execution_count": null,
   "metadata": {
    "collapsed": true
   },
   "outputs": [],
   "source": [
    "#boxcox,samozone.R converted to boxcox_samozone.py\n",
    "y = scan(\"u:/meth1/sfiles/ozone1.DAT\")\n",
    "n = length(y)\n",
    "yt0 = log(y)\n",
    "s = sum(yt0)\n",
    "varyt0 = var(yt0)\n",
    "Lt0 = -1*s - .5*n*(log(2*pi*varyt0)+1)\n",
    "th = 0\n",
    "Lt = 0\n",
    "t = -3.01\n",
    "i = 0\n",
    "while(t < 3)\n",
    "{t = t+.001\n",
    "i = i+1\n",
    "th[i] = t\n",
    "yt = (y^t -1)/t\n",
    "varyt = var(yt)\n",
    "Lt[i] = (t-1)*s - .5*n*(log(2*pi*varyt)+1)\n",
    "if(abs(th[i])<1.0e-10)Lt[i]<-Lt0\n",
    "if(abs(th[i])<1.0e-10)th[i]<-0\n",
    "}\n",
    "# The following outputs the values of the likelihood and theta and yields\n",
    "# the value of theta where likelihood is a maximum\n",
    "out = cbind(th,Lt)\n",
    "Ltmax= max(Lt)\n",
    "imax= which(Lt==max(Lt))\n",
    "thmax= th[imax]\n",
    "postscript(\"boxcox,plotsam.ps\",height=8,horizontal=FALSE)\n",
    "plot(th,Lt,lab=c(30,50,7),main=\"Box-Cox Transformations\",\n",
    "xlab=expression(theta),\n",
    "ylab=expression(Lt(theta)))\n",
    "#the following plots a 95\\% c.i. for theta\n",
    "cic = Ltmax-.5*qchisq(.95,1)\n",
    "del= .01\n",
    "iLtci = which(abs(Lt-cic)<=del)\n",
    "iLtciL= min(iLtci)\n",
    "iLtciU= max(iLtci)\n",
    "thLci= th[iLtciL]\n",
    "thUci= th[iLtciU]\n",
    "abline(h=cic)\n",
    "abline(v=thLci)\n",
    "abline(v=thUci)\n",
    "abline(v=thmax)"
   ]
  },
  {
   "cell_type": "code",
   "execution_count": null,
   "metadata": {
    "collapsed": true
   },
   "outputs": [],
   "source": [
    "#Reference distributions\n",
    "qqnorm(x,main=\"Normal Prob Plots of Samford Ozone Data\",\n",
    "xlab=\"normal quantiles\",ylab=\"ozone concentration\",cex=.65)\n",
    "qqline(x)\n",
    "text(-2,200,\"SW=.9288\")\n",
    "text(-2,190,\"p-value=0\")\n",
    "y1= log(x)\n",
    "y2= x^.23\n",
    "y3= x^.5\n",
    "s = shapiro.test(x)\n",
    "s1 = shapiro.test(y1)\n",
    "s2 = shapiro.test(y2)\n",
    "s3 = shapiro.test(y3)\n",
    "qqnorm(y2,main=\"Normal Prob Plots of Samford Ozone Data with (Ozone)^.23\",\n",
    "xlab=\"normal quantiles\",ylab=expression(Ozone^.23),cex=.65)\n",
    "qqline(y2)\n",
    "text(-2,3.5,\"SW=.9872\")\n",
    "text(-2,3.4,\"p-value=.2382\")\n",
    "qqnorm(y1,main=\"Normal Prob Plots of Samford Ozone Data with Log(Ozone)\",\n",
    "xlab=\"normal quantiles\",ylab=\"Log(Ozone)\",cex=.65)\n",
    "qqline(y1)\n",
    "text(-2,5.0,\"SW=.9806\")\n",
    "text(-2,4.85,\"p-value=.0501\")\n",
    "qqnorm(y3,main=\"Normal Prob Plots of Samford Ozone Data with SQRT(Ozone)\",\n",
    "xlab=\"normal quantiles\",ylab=expression(Ozone^.5),cex=.65)\n",
    "qqline(y3)\n",
    "text(-2,14.5,\"SW=.9789\")\n",
    "text(-2,13.5,\"p-value=.0501\")"
   ]
  }
 ],
 "metadata": {
  "kernelspec": {
   "display_name": "Python 3",
   "language": "python",
   "name": "python3"
  },
  "language_info": {
   "codemirror_mode": {
    "name": "ipython",
    "version": 3
   },
   "file_extension": ".py",
   "mimetype": "text/x-python",
   "name": "python",
   "nbconvert_exporter": "python",
   "pygments_lexer": "ipython3",
   "version": "3.6.0"
  }
 },
 "nbformat": 4,
 "nbformat_minor": 2
}
